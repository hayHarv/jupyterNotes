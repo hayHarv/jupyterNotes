{
 "cells": [
  {
   "cell_type": "code",
   "execution_count": 5,
   "metadata": {
    "collapsed": false
   },
   "outputs": [
    {
     "data": {
      "text/html": [
       "<div>\n",
       "<table border=\"1\" class=\"dataframe\">\n",
       "  <thead>\n",
       "    <tr style=\"text-align: right;\">\n",
       "      <th></th>\n",
       "      <th>sepal_length</th>\n",
       "      <th>sepal_width</th>\n",
       "      <th>petal_length</th>\n",
       "      <th>petal_width</th>\n",
       "      <th>species</th>\n",
       "    </tr>\n",
       "  </thead>\n",
       "  <tbody>\n",
       "    <tr>\n",
       "      <th>95</th>\n",
       "      <td>6.7</td>\n",
       "      <td>3.0</td>\n",
       "      <td>5.2</td>\n",
       "      <td>2.3</td>\n",
       "      <td>Iris-virginica</td>\n",
       "    </tr>\n",
       "    <tr>\n",
       "      <th>54</th>\n",
       "      <td>6.5</td>\n",
       "      <td>3.0</td>\n",
       "      <td>5.8</td>\n",
       "      <td>2.2</td>\n",
       "      <td>Iris-virginica</td>\n",
       "    </tr>\n",
       "    <tr>\n",
       "      <th>66</th>\n",
       "      <td>6.5</td>\n",
       "      <td>3.0</td>\n",
       "      <td>5.5</td>\n",
       "      <td>1.8</td>\n",
       "      <td>Iris-virginica</td>\n",
       "    </tr>\n",
       "    <tr>\n",
       "      <th>43</th>\n",
       "      <td>5.0</td>\n",
       "      <td>2.3</td>\n",
       "      <td>3.3</td>\n",
       "      <td>1.0</td>\n",
       "      <td>Iris-versicolor</td>\n",
       "    </tr>\n",
       "    <tr>\n",
       "      <th>37</th>\n",
       "      <td>6.3</td>\n",
       "      <td>2.3</td>\n",
       "      <td>4.4</td>\n",
       "      <td>1.3</td>\n",
       "      <td>Iris-versicolor</td>\n",
       "    </tr>\n",
       "  </tbody>\n",
       "</table>\n",
       "</div>"
      ],
      "text/plain": [
       "    sepal_length  sepal_width  petal_length  petal_width          species\n",
       "95           6.7          3.0           5.2          2.3   Iris-virginica\n",
       "54           6.5          3.0           5.8          2.2   Iris-virginica\n",
       "66           6.5          3.0           5.5          1.8   Iris-virginica\n",
       "43           5.0          2.3           3.3          1.0  Iris-versicolor\n",
       "37           6.3          2.3           4.4          1.3  Iris-versicolor"
      ]
     },
     "execution_count": 5,
     "metadata": {},
     "output_type": "execute_result"
    }
   ],
   "source": [
    "% matplotlib inline\n",
    "import numpy as np\n",
    "import pandas as pd\n",
    "import matplotlib.pyplot as plt\n",
    "import os\n",
    "import seaborn as sns\n",
    "\n",
    "\n",
    "data_path = \"Data/iris.csv\"\n",
    "iris = pd.read_csv(os.path.relpath(data_path))\n",
    "\n",
    "shuffled_rows = np.random.permutation(iris.index)\n",
    "iris = iris.loc[shuffled_rows,:]\n",
    "\n",
    "iris.head()"
   ]
  },
  {
   "cell_type": "code",
   "execution_count": 6,
   "metadata": {
    "collapsed": false
   },
   "outputs": [
    {
     "data": {
      "image/png": "[encoded data removed]",
      "text/plain": [
       "<matplotlib.figure.Figure at 0x1b90c9b7978>"
      ]
     },
     "metadata": {},
     "output_type": "display_data"
    }
   ],
   "source": [
    "# Use hist dataframe method\n",
    "\n",
    "iris.hist()\n",
    "plt.tight_layout()\n",
    "plt.show()"
   ]
  },
  {
   "cell_type": "markdown",
   "metadata": {},
   "source": [
    "### Let's get non-linear\n",
    "\n",
    "So, these irises are all over the goddamn place. Clearly we need to figure out how to deal with that kind of nonlinearity. \n",
    "\n",
    "So neurons, eh? Those deal with nonlinear categorization and feature detection and distributed representations and such? That sounds like a good option.\n",
    "\n",
    "<img src=\"Data/Pictures/RdPPxre.png\" style=\"width:360px;height:300px;\">\n",
    "\n",
    "In this image, we see a neuron that takes 5 units, $x_i$ and these inputs are fed into an activation function, $h$. \n",
    "\n",
    "There are a number of ways of dealing with the activation function, but in this case we can use the sigmoid function:\n",
    "\n",
    "$Sigmoid\\:function:\\:g(z)=\\dfrac{1}{1+e^{-z}}$\n",
    "\n",
    "'Member that from logistic regressions? It does that cool thing where it takes an input and turns it into a probability between 0 and 1?\n",
    "\n",
    "This is then used in the Sigmoid Activation Function:\n",
    "\n",
    "$\\text{Sigmoid Activation Function: }h_{\\Theta}(x) = \\dfrac{1}{1+e^{-\\Theta^T x}} = \\dfrac{1}{1+e^{-(\\theta_01 + \\theta_1x_1 + \\theta_2 x_2)}}$\n",
    "\n",
    "\n",
    "\n",
    "\n"
   ]
  },
  {
   "cell_type": "code",
   "execution_count": 9,
   "metadata": {
    "collapsed": false
   },
   "outputs": [
    {
     "name": "stdout",
     "output_type": "stream",
     "text": [
      "[ 0.48568528]\n"
     ]
    }
   ],
   "source": [
    "def sigmoid_activation(x, theta_init):\n",
    "    \"\"\"\n",
    "    takes:\n",
    "    x: feature vector\n",
    "    theta_init: parameter vector\n",
    "    \n",
    "    takes dot product of x and theta init\n",
    "    \n",
    "    returns: activation vector\n",
    "    \n",
    "    \n",
    "    \"\"\"\n",
    "    \n",
    "    bigTheta = np.dot(x, theta_init)\n",
    "    \n",
    "    return np.array((1 + np.exp(-bigTheta))**-1)\n",
    "\n",
    "# Variables to test sigmoid_activation\n",
    "\n",
    "# Add ones column to make Series 2-d vector\n",
    "iris[\"ones\"] = np.ones(iris.shape[0])\n",
    "\n",
    "# return iris values as matrix\n",
    "X = iris[['ones', 'sepal_length', 'sepal_width', 'petal_length', 'petal_width']].values\n",
    "y = (iris.species == 'Iris-versicolor').values.astype(int)\n",
    "\n",
    "# The first observation:\n",
    "x0 = X[0] \n",
    "\n",
    "# Initialize thetas randomly using np.random.normal\n",
    "# Specify size to allow dot product of theta_init and X[0]\n",
    "theta_init = np.random.normal(0, 0.01, size=(5,1))\n",
    "\n",
    "# Stick dem into the sigmoid activation\n",
    "a1 = sigmoid_activation(x0, theta_init)\n",
    "\n",
    "print(a1)\n",
    "    "
   ]
  },
  {
   "cell_type": "markdown",
   "metadata": {},
   "source": [
    "#### Let's get a cost function going here\n",
    "\n",
    "$J(\\Theta) = -\\dfrac{1}{m} \\sum_{i=1}^{m} (y_i * log(h_{\\Theta}(x_i)) + (1-y_i) log(1-h_{\\Theta}(x_i)))$\n",
    "\n",
    "\n",
    "\n"
   ]
  },
  {
   "cell_type": "markdown",
   "metadata": {},
   "source": [
    "Per usual, we have:\n",
    "\n",
    "- The observed (true) value: $y_i$\n",
    "- The output of the sigmoid activation function: $h_\\Theta$\n",
    "- The observations vector: $x_i$\n",
    "\n",
    "And all of this is averaged over the training observations\n",
    "\n",
    "Because we are looking at binary targets (1/0 for each species), this cost function makes sense per the following:\n",
    "\n",
    "1. either $y_i$ or $(1-y_i)$ will equal zero\n",
    "2. If $y_i=1$ we want $h_\\Theta (x_i)$ to be close to 1\n",
    "3. As $h_\\Theta (x_i)$ approaches 1, the value of $log(h_\\Theta (x_i))$ will approach 0\n",
    "\n",
    "So, if $y_i$ is 0:\n",
    "\n",
    "The term $y_i * log(h_\\Theta (x_i))$ will be zero\n",
    "\n",
    "The term $(1-y_i) log(1-h_\\Theta (x_i))$ will approach zero as $h_\\Theta$ becomes more accurate\n",
    "\n",
    "And the ol switcheroo when $y_i$ is 1\n",
    "\n",
    "\n"
   ]
  },
  {
   "cell_type": "code",
   "execution_count": 11,
   "metadata": {
    "collapsed": false
   },
   "outputs": [
    {
     "name": "stdout",
     "output_type": "stream",
     "text": [
      "0.664919912576\n"
     ]
    }
   ],
   "source": [
    "# Let's make a function that returns the cost from a single observation\n",
    "\n",
    "def single_cost(X, y, theta):\n",
    "    '''\n",
    "    x: input features\n",
    "    y: targets\n",
    "    theta: model parameters\n",
    "    \n",
    "    returns: cost as float\n",
    "    '''\n",
    "    \n",
    "    # use sigmoid_activation function on observation\n",
    "    h = sigmoid_activation(X.T, theta)\n",
    "    \n",
    "    cost = -np.mean(((y*(np.log(h)))+(1-y) * np.log(1-h) ))\n",
    "    \n",
    "    return cost\n",
    "\n",
    "# first observation is x0 defined above\n",
    "# first observation's target\n",
    "y0 = y[0]\n",
    "\n",
    "first_cost = single_cost(x0, y0, theta_init)\n",
    "\n",
    "print(first_cost)\n",
    "\n",
    "    "
   ]
  },
  {
   "cell_type": "code",
   "execution_count": null,
   "metadata": {
    "collapsed": true
   },
   "outputs": [],
   "source": []
  }
 ],
 "metadata": {
  "kernelspec": {
   "display_name": "Python 3",
   "language": "python",
   "name": "python3"
  },
  "language_info": {
   "codemirror_mode": {
    "name": "ipython",
    "version": 3
   },
   "file_extension": ".py",
   "mimetype": "text/x-python",
   "name": "python",
   "nbconvert_exporter": "python",
   "pygments_lexer": "ipython3",
   "version": "3.6.0"
  }
 },
 "nbformat": 4,
 "nbformat_minor": 2
}
