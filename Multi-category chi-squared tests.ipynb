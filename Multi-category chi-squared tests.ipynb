{
 "cells": [
  {
   "cell_type": "markdown",
   "metadata": {},
   "source": [
    "<h1>Multi-category chi-squared tests</h1>\n",
    "<p>Chi-squared tests work for a single categorical variable (e.g. gender), but they can also be applied to look at the interaction between two categorical variables.</p>\n",
    "<p>For instance, census data collects both gender demographic data as categorical and high/low income as categorical. A person can be male/female and high/low income as a tuple of categorical dimensions that describe them</p>\n",
    "\n",
    "<table align=\"center\">\n",
    "<tr>\n",
    "    <td></td>\n",
    "    <th colspan=\"3\">Sex</th>\n",
    "    <td></td>\n",
    "</tr>\n",
    "<tr>\n",
    "    <th rowspan=\"5\">Income</th>\n",
    "</tr>\n",
    "<tr>\n",
    "    <td>income cat</td>\n",
    "    <th>Male</th>\n",
    "    <th>Female</th>\n",
    "    <th>Totals</th>\n",
    "</tr>\n",
    "<tr><td>>50k</td><td>6662</td><td>1179</td><td>7481</td></tr>\n",
    "<tr><td><=50k</td><td>15128</td><td>9592</td><td>24720</td></tr>\n",
    "<tr><td>Totals</td><td>21790</td><td>10771</td><td>32561</td></tr>\n",
    "</table>\n",
    "<p>Now we need to convert the values to proportions in order to compare across categories</p> \n",
    "<table align=\"center\">\n",
    "<tr><td></td><th colspan=\"3\">Sex</th><td></td></tr>\n",
    "<tr><th rowspan=\"5\">Income</th></tr>\n",
    "<tr><td>income cat</td><th>Male</th><th>Female</th><th>Totals</th></tr>\n",
    "<tr><td>>50k</td><td>.205</td><td>.036</td><td>.241</td></tr>\n",
    "<tr><td><=50k</td><td>.465</td><td>.294</td><td>.759</td></tr>\n",
    "<tr><td>Totals</td><td>.669</td><td>.331</td><td>1</td></tr>\n",
    "</table>\n",
    "<p>Once the values have been converted to proportions, we can now determine our expected values by multiplying the proportional likelihood of each category. For instance, 24.1% of all people in income earn >50k, and 33.1% of all people in the data set are female. So we would expect the femal proportion of those earning >50k to be .241&#42;.331, which is 0.0799771.</p>\n",
    "<p>we can convert our expected proportion to an expected value by multiplying it by the sample size--so 32561&#42;0.0799771 is 2597.4</p>"
   ]
  },
  {
   "cell_type": "code",
   "execution_count": 2,
   "metadata": {
    "collapsed": true
   },
   "outputs": [],
   "source": [
    "import numpy as np\n",
    "\n",
    "def compute_expected_value(proportion, N):\n",
    "    return(proportion*N)\n",
    "n = 32561\n",
    "males_over50k = compute_expected_value((.241*.669),n)\n",
    "males_under50k = compute_expected_value((.759*.669),n)\n",
    "females_over50k = compute_expected_value((.241*.331),n)\n",
    "females_under50k = compute_expected_value((.759*.331),n)\n"
   ]
  },
  {
   "cell_type": "code",
   "execution_count": 5,
   "metadata": {
    "collapsed": false
   },
   "outputs": [
    {
     "name": "stdout",
     "output_type": "stream",
     "text": [
      "1517.5510981525103\n"
     ]
    }
   ],
   "source": [
    "observed = [6662, 1179, 15128, 9592]\n",
    "expected = [5249.8, 2597.4, 16533.5, 8180.3]\n",
    "values = []\n",
    "\n",
    "for i, obs in enumerate(observed):\n",
    "    exp = expected[i]\n",
    "    value = (obs - exp) ** 2 / exp\n",
    "    values.append(value)\n",
    "\n",
    "chisq_gender_income = sum(values)\n",
    "print(chisq_gender_income)"
   ]
  },
  {
   "cell_type": "markdown",
   "metadata": {},
   "source": [
    "<h2>Now with SciPy:</h2>"
   ]
  },
  {
   "cell_type": "code",
   "execution_count": 8,
   "metadata": {
    "collapsed": false
   },
   "outputs": [
    {
     "name": "stdout",
     "output_type": "stream",
     "text": [
      "1517.55109815\n",
      "0.0\n"
     ]
    }
   ],
   "source": [
    "from scipy.stats import chisquare\n",
    "observed = np.array(observed)\n",
    "expected = np.array(expected)\n",
    "import numpy as np\n",
    "from scipy.stats import chisquare\n",
    "\n",
    "observed = np.array(observed)\n",
    "expected = np.array(expected)\n",
    "\n",
    "chisquare_val, pvalue = chisquare(observed, expected)\n",
    "print(chisquare_val)\n",
    "print(pvalue)"
   ]
  },
  {
   "cell_type": "markdown",
   "metadata": {},
   "source": [
    "<h2>Scaling up to >2 value categories with cross tables</h2>\n",
    "<p>In order to run a chi-squared test under these conditions, we need to find the observed frequency counts for each combination of the categorical variables. This is where <a href=\"http://pandas.pydata.org/pandas-docs/version/0.17.0/generated/pandas.crosstab.html\">pandas.crosstab</a> comes in. It will print a table that assigns the observations into their respective combination of categorical variables</p>\n",
    "<p>These will just be notes until I have a good data set to demonstrated</p>\n"
   ]
  },
  {
   "cell_type": "markdown",
   "metadata": {},
   "source": [
    "````\n",
    "import pandas as pd\n",
    "fake_data = pd.read_csv(\"fakedata.csv\")\n",
    "print(fake_data.columns.values)\n",
    "[\"gender\",\"race\",\"income\"]\n",
    "crosstab_by_gender_and_race = pd.crosstab(fake_data[\"gender\"],[fake_data[\"race\"]])\n",
    "\n",
    "\n",
    "output:\n",
    "race      Amer-Indian-Eskimo   Asian-Pac-Islander   Black   Other   White\n",
    "sex                                                                      \n",
    " Female                  119                  346    1555     109    8642\n",
    " Male                    192                  693    1569     162   19174\n",
    "````"
   ]
  },
  {
   "cell_type": "markdown",
   "metadata": {},
   "source": [
    "<h2>Finding Expected Values</h2>\n",
    "<p>we can use <a href=\"http://docs.scipy.org/doc/scipy-0.15.1/reference/generated/scipy.stats.chi2_contingency.html\">scipy.stats.chi2_contingency</a> to calculate the p-value, degrees of freedom, and expected frequencies based on observed values</p>\n",
    "<p>You can directly pass the result of a pandas.crosstab function into the scipy.stats.chi2_contingency function</p>\n",
    "````\n",
    "from scipy.stats import chi2_contingency\n",
    "chisq_value, pvalue_gender_race, df, expected = chi2contingency(crosstab_by_gender_and_race)\n",
    "print(chisq_value)\n",
    "print(pvalue_gender_race)\n",
    "print(df)\n",
    "print(expected)\n",
    "Output:\n",
    "454.267108913\n",
    "5.19206130276e-97\n",
    "4\n",
    "[[   102.87709223    343.69549461   1033.40204539     89.64531188\n",
    "    9201.3800559 ]\n",
    " [   208.12290777    695.30450539   2090.59795461    181.35468812\n",
    "   18614.6199441 ]]````"
   ]
  },
  {
   "cell_type": "markdown",
   "metadata": {},
   "source": [
    "<h2>Chi Squared Caveats</h2>\n",
    "<ul>\n",
    "    <li>Be mindful of significance</li>\n",
    "    <li>Chi-Squared tests do not test for correlation, they identify the difference in the expected vs observed values. Further investigation is required to create a more complete picture of the relationship</li>\n",
    "    <li>Chi-Squared tests can only be applied to independent categorical variables; that is, categorical variables where membership is mutually exclusive</li>\n",
    "    <li>Chi-Squared tests are more valid when the numbers in each cell of the cross table are larger. I.e. when there are adequate examples of each combination of categorical variables</li>\n",
    "</ul>"
   ]
  },
  {
   "cell_type": "code",
   "execution_count": null,
   "metadata": {
    "collapsed": true
   },
   "outputs": [],
   "source": []
  }
 ],
 "metadata": {
  "kernelspec": {
   "display_name": "Python [conda root]",
   "language": "python",
   "name": "conda-root-py"
  },
  "language_info": {
   "codemirror_mode": {
    "name": "ipython",
    "version": 3
   },
   "file_extension": ".py",
   "mimetype": "text/x-python",
   "name": "python",
   "nbconvert_exporter": "python",
   "pygments_lexer": "ipython3",
   "version": "3.5.1"
  }
 },
 "nbformat": 4,
 "nbformat_minor": 0
}
