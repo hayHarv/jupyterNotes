{
 "cells": [
  {
   "cell_type": "code",
   "execution_count": 1,
   "metadata": {
    "collapsed": false
   },
   "outputs": [
    {
     "data": {
      "text/html": [
       "<div>\n",
       "<table border=\"1\" class=\"dataframe\">\n",
       "  <thead>\n",
       "    <tr style=\"text-align: right;\">\n",
       "      <th></th>\n",
       "      <th>admit</th>\n",
       "      <th>gpa</th>\n",
       "      <th>gre</th>\n",
       "    </tr>\n",
       "  </thead>\n",
       "  <tbody>\n",
       "    <tr>\n",
       "      <th>0</th>\n",
       "      <td>0</td>\n",
       "      <td>3.177277</td>\n",
       "      <td>594.102992</td>\n",
       "    </tr>\n",
       "    <tr>\n",
       "      <th>1</th>\n",
       "      <td>0</td>\n",
       "      <td>3.412655</td>\n",
       "      <td>631.528607</td>\n",
       "    </tr>\n",
       "    <tr>\n",
       "      <th>2</th>\n",
       "      <td>0</td>\n",
       "      <td>2.728097</td>\n",
       "      <td>553.714399</td>\n",
       "    </tr>\n",
       "    <tr>\n",
       "      <th>3</th>\n",
       "      <td>0</td>\n",
       "      <td>3.093559</td>\n",
       "      <td>551.089985</td>\n",
       "    </tr>\n",
       "    <tr>\n",
       "      <th>4</th>\n",
       "      <td>0</td>\n",
       "      <td>3.141923</td>\n",
       "      <td>537.184894</td>\n",
       "    </tr>\n",
       "  </tbody>\n",
       "</table>\n",
       "</div>"
      ],
      "text/plain": [
       "   admit       gpa         gre\n",
       "0      0  3.177277  594.102992\n",
       "1      0  3.412655  631.528607\n",
       "2      0  2.728097  553.714399\n",
       "3      0  3.093559  551.089985\n",
       "4      0  3.141923  537.184894"
      ]
     },
     "execution_count": 1,
     "metadata": {},
     "output_type": "execute_result"
    }
   ],
   "source": [
    "import pandas as pd\n",
    "import matplotlib.pyplot as plt\n",
    "import seaborn as sns\n",
    "from sklearn.linear_model import LogisticRegression\n",
    "import os\n",
    "%matplotlib inline\n",
    "data = 'admission.csv'\n",
    "admissions = pd.read_csv(os.path.relpath(\"Data\\\\\"+data))\n",
    "admissions.head()"
   ]
  },
  {
   "cell_type": "markdown",
   "metadata": {
    "collapsed": true
   },
   "source": [
    "<H3>Holdout Validation</H3>\n",
    "<p>The simplest way to evaluate a classifier's effectiveness is to:</p>\n",
    "<ul>\n",
    "<li>Randomly split data into training and test set</li>\n",
    "<li>fitting the model using the training set</li>\n",
    "<li>making predictions on the test set</li>\n",
    "</ul>\n",
    "<p>There's no hard and fast rule for how to split test and training data, for now, we'll use 80/20 for training and testing respectively. To do this we'll:</p>\n",
    "<ul>\n",
    "<li>use <a href=\"http://docs.scipy.org/doc/numpy-1.10.0/reference/generated/numpy.random.permutation.html\">numpy.random.permutation</a> to return a list containing index values in random order</li>\n",
    "<li>return a new DataFrame in that list's order</li>\n",
    "<li>select the first 80% as the training set</li>\n",
    "<li>select the last 20% as the test set</li>\n",
    "</ul>\n"
   ]
  },
  {
   "cell_type": "code",
   "execution_count": 2,
   "metadata": {
    "collapsed": false
   },
   "outputs": [],
   "source": [
    "import numpy as np\n",
    "\n",
    "# Seed RandomState instance\n",
    "np.random.seed(8)\n",
    "\n",
    "# Create list of randomized indices from DataFrame\n",
    "random_indices = list(np.random.permutation(admissions.index))\n",
    "\n",
    "# Create new DataFrame indexed in the random order\n",
    "shuffled_admissions = admissions.loc[random_indices]\n",
    "\n",
    "# Create training frame\n",
    "train = shuffled_admissions[:515]\n",
    "\n",
    "# Create test frame\n",
    "test = shuffled_admissions[515:]\n",
    "\n",
    "\n"
   ]
  },
  {
   "cell_type": "markdown",
   "metadata": {},
   "source": [
    "<h3>Accuracy</h3>\n",
    "<p>Now that the data is randomized, let's fit a logistic regression and evaluate it</p>\n",
    "\n",
    "<p>$Accuracy=\\frac{\\#\\:correctly\\:predicted}{\\#\\:of\\:Observations}$</p>"
   ]
  },
  {
   "cell_type": "code",
   "execution_count": 3,
   "metadata": {
    "collapsed": false
   },
   "outputs": [
    {
     "name": "stdout",
     "output_type": "stream",
     "text": [
      "0.6356589147286822\n"
     ]
    },
    {
     "name": "stderr",
     "output_type": "stream",
     "text": [
      "C:\\Users\\v-haharv\\AppData\\Local\\Continuum\\Anaconda3\\lib\\site-packages\\ipykernel\\__main__.py:7: SettingWithCopyWarning: \n",
      "A value is trying to be set on a copy of a slice from a DataFrame.\n",
      "Try using .loc[row_indexer,col_indexer] = value instead\n",
      "\n",
      "See the caveats in the documentation: http://pandas.pydata.org/pandas-docs/stable/indexing.html#indexing-view-versus-copy\n"
     ]
    }
   ],
   "source": [
    "lr = LogisticRegression()\n",
    "\n",
    "# Fit the regression model\n",
    "lr.fit(train[['gpa']],train['admit'])\n",
    "\n",
    "# Predict labels and add to test dataframe\n",
    "test['predicted_label'] = list(lr.predict(test[['gpa']]))\n",
    "\n",
    "# Calculate accuracy\n",
    "accuracy = test[test['predicted_label']==test['admit']].shape[0] / test.shape[0]\n",
    "\n",
    "print(accuracy)\n"
   ]
  },
  {
   "cell_type": "markdown",
   "metadata": {},
   "source": [
    "<H3>Digging into accuracy</H3>\n",
    "<p>So the prediction accuracy in this model with the holdout set is ~64% which is close to the original estimate using the full set in the Logistic Regressions Basics notebook</p>\n",
    "<p>If the model performs <em>WAY WORSE</em> on the holdout data, it's a sign that we're overfitting. If the accuracy is much lower, then it may be a sign that the feature we're using isn't great or we should reconsider using logistic regression</p>\n",
    "\n",
    "<h4>Sensitivity and Specificity (again)</h4>\n",
    "<p>Sensitivity is the rate at which the model predicts true positives</p>\n",
    "<p>Specificity is the rate at which the model predicts true negatives</p>\n",
    "\n",
    "<p>$Sensitivity=\\frac{True\\:Positives}{True\\:Positives+False\\:Positives}$</p>\n",
    "\n",
    "<p>$Specificity=\\frac{True\\:Negatives}{True\\:Negatives+\\:False\\:Negatives}$</p>"
   ]
  },
  {
   "cell_type": "code",
   "execution_count": 4,
   "metadata": {
    "collapsed": false
   },
   "outputs": [
    {
     "name": "stdout",
     "output_type": "stream",
     "text": [
      "0.08333333333333333\n",
      "0.9629629629629629\n"
     ]
    },
    {
     "name": "stderr",
     "output_type": "stream",
     "text": [
      "C:\\Users\\v-haharv\\AppData\\Local\\Continuum\\Anaconda3\\lib\\site-packages\\ipykernel\\__main__.py:1: SettingWithCopyWarning: \n",
      "A value is trying to be set on a copy of a slice from a DataFrame.\n",
      "Try using .loc[row_indexer,col_indexer] = value instead\n",
      "\n",
      "See the caveats in the documentation: http://pandas.pydata.org/pandas-docs/stable/indexing.html#indexing-view-versus-copy\n",
      "  if __name__ == '__main__':\n"
     ]
    }
   ],
   "source": [
    "test['actual_label'] = test['admit']\n",
    "\n",
    "matches = test[\"predicted_label\"] == test[\"actual_label\"]\n",
    "correct_predictions = test[matches]\n",
    "\n",
    "true_positive_filter = (test[\"predicted_label\"] == 1) & (test[\"actual_label\"] == 1)\n",
    "true_positives = len(test[true_positive_filter])\n",
    "false_negative_filter = (test[\"predicted_label\"] == 0) & (test[\"actual_label\"] == 1)\n",
    "false_negatives = len(test[false_negative_filter])\n",
    "\n",
    "sensitivity = true_positives / (true_positives + false_negatives)\n",
    "print(sensitivity)\n",
    "\n",
    "false_positive_filter = (test[\"predicted_label\"] == 1) & (test[\"actual_label\"] == 0)\n",
    "false_positives = len(test[false_positive_filter])\n",
    "true_negative_filter = (test[\"predicted_label\"] == 0) & (test[\"actual_label\"] == 0)\n",
    "true_negatives = len(test[true_negative_filter])\n",
    "\n",
    "specificity = (true_negatives) / (false_positives + true_negatives)\n",
    "print(specificity)\n",
    "\n"
   ]
  },
  {
   "cell_type": "markdown",
   "metadata": {},
   "source": [
    "<H3>False Positive Rate Deeper Dive</H3>\n",
    "<p>When we use the LogisticRegression.predict method, scikit-learn uses the logit function, $\\sigma(t)=\\frac{e^t}{1+e^t}$, to determine the probability value of each observation, then assigns a 1/0 if it's greater than a threshold (50% by default). For most problems, though, 50% is not the optimal $discrimination\\:threshold$ so accordingly, we would ideally have a way to compute measures at varied threshold values and optimize our model depending on our objectives.</p>\n",
    "\n",
    "<p>As stated above, we have two fundamental measures for a given discrimination threshold:</p>\n",
    "<ol>\n",
    "<li>False Positive Rate (also known as Fall-out rate)</li>\n",
    "<li>True Positive Rate</li>\n",
    "</ol>\n",
    "\n",
    "<H3>The ROC Curve</H3>\n",
    "<p>We can vary the discrimination threshold and calculate the TPR and FPR for each threshold. This results in an $ROC\\:curve$ which stands for $Receiver\\:Operator\\:Curve$, which allows us to determine the classification model's performace for all values of the discrimination threshold</p>\n",
    "<p>For this we use the <a href=\"http://scikit-learn.org/stable/modules/generated/sklearn.metrics.roc_curve.html\">scikit-learn ````roc_curve```` function</a></p>\n",
    "<p>The roc_curve function takes two requred parameters ````y_true: list of true labels```` and ````y_score: list of probability scores for those observations````</p>\n",
    "<p>The ````roc_curve```` function returns 3 values that you can assign to separate variables when you call the function ````fpr, tpr, thresholds = metrics.roc_curve(labels, probabilities)````</p>\n",
    "\n"
   ]
  },
  {
   "cell_type": "code",
   "execution_count": 19,
   "metadata": {
    "collapsed": false
   },
   "outputs": [
    {
     "data": {
      "image/png": "[encoded data removed]",
      "text/plain": [
       "<matplotlib.figure.Figure at 0xb1d2990>"
      ]
     },
     "metadata": {},
     "output_type": "display_data"
    }
   ],
   "source": [
    "# Import roc_curve\n",
    "from sklearn.metrics import roc_curve\n",
    "\n",
    "# Generate probs for model from observations\n",
    "probs = lr.predict_proba(test[['gpa']])\n",
    "\n",
    "# use roc_curve to generate fpr, tpr, and thresholds variable\n",
    "fpr,tpr,thresholds = roc_curve(list(test['actual_label']),probs[:,1])\n",
    "\n",
    "# Plot ROC\n",
    "plt.plot(fpr,tpr)\n",
    "plt.xlabel(\"False Positive Rate\")\n",
    "plt.ylabel(\"True Positive Rate\")\n",
    "plt.show()"
   ]
  },
  {
   "cell_type": "markdown",
   "metadata": {},
   "source": [
    "<H3>Area Under the Curve</H3>\n",
    "<p>Looking at the ROC curve above, you can see the tradeoff of increasing the true positive rate--as that increases, so does the false positive rate, since they both converge to 1</p>\n",
    "<p>Going further, we can calculate the $Area\\:under\\: the\\: curve$ which describes the probability that the classifier will catch a random positive observation higher than a random negative observation</p>\n",
    "<p>We can use the scikit-learn function <a href=\"http://scikit-learn.org/stable/modules/generated/sklearn.metrics.roc_auc_score.html\">````roc_auc_score````</a> which takes the same paramaters as the ````roc_curve```` function</p>"
   ]
  },
  {
   "cell_type": "code",
   "execution_count": 14,
   "metadata": {
    "collapsed": false
   },
   "outputs": [
    {
     "name": "stdout",
     "output_type": "stream",
     "text": [
      "0.577932098765\n",
      "our model is slightly better than flipping a coin!!!!\n"
     ]
    }
   ],
   "source": [
    "# Import auc_score\n",
    "from sklearn.metrics import roc_auc_score\n",
    "\n",
    "auc_score = roc_auc_score(list(test['actual_label']),probs[:,1])\n",
    "\n",
    "print(auc_score)\n",
    "print(\"our model is slightly better than flipping a coin!!!!\")"
   ]
  },
  {
   "cell_type": "code",
   "execution_count": null,
   "metadata": {
    "collapsed": true
   },
   "outputs": [],
   "source": []
  }
 ],
 "metadata": {
  "kernelspec": {
   "display_name": "Python 3",
   "language": "python",
   "name": "python3"
  },
  "language_info": {
   "codemirror_mode": {
    "name": "ipython",
    "version": 3
   },
   "file_extension": ".py",
   "mimetype": "text/x-python",
   "name": "python",
   "nbconvert_exporter": "python",
   "pygments_lexer": "ipython3",
   "version": "3.6.0"
  }
 },
 "nbformat": 4,
 "nbformat_minor": 0
}
