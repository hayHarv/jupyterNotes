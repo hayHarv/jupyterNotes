{
 "cells": [
  {
   "cell_type": "code",
   "execution_count": 1,
   "metadata": {
    "collapsed": false
   },
   "outputs": [],
   "source": [
    "%matplotlib inline\n",
    "\n",
    "import pandas as pd\n",
    "import seaborn as sns\n",
    "import matplotlib.pyplot as plt\n",
    "\n",
    "pisa= pd.DataFrame({\"year\": range(1975, 1988), \n",
    "                         \"lean\": [2.9642, 2.9644, 2.9656, 2.9667, 2.9673, 2.9688, 2.9696, \n",
    "                                  2.9698, 2.9713, 2.9717, 2.9725, 2.9742, 2.9757]})\n"
   ]
  },
  {
   "cell_type": "code",
   "execution_count": 2,
   "metadata": {
    "collapsed": false
   },
   "outputs": [
    {
     "data": {
      "image/png": "[encoded data removed]",
      "text/plain": [
       "<matplotlib.figure.Figure at 0x19ee39e3358>"
      ]
     },
     "metadata": {},
     "output_type": "display_data"
    }
   ],
   "source": [
    "plt.scatter(pisa.year, pisa.lean)\n",
    "plt.show()"
   ]
  },
  {
   "cell_type": "markdown",
   "metadata": {},
   "source": [
    "<H3>Statsmodels</H3>\n",
    "<p><a href=\"http://www.statsmodels.org/stable/index.html\">StatsModels</a> is a module we're using here for some reason...probably because it outputs summary data related to the model being used in the analysis:</p>\n",
    "\n"
   ]
  },
  {
   "cell_type": "code",
   "execution_count": 3,
   "metadata": {
    "collapsed": false
   },
   "outputs": [
    {
     "name": "stdout",
     "output_type": "stream",
     "text": [
      "                            OLS Regression Results                            \n",
      "==============================================================================\n",
      "Dep. Variable:                   lean   R-squared:                       0.988\n",
      "Model:                            OLS   Adj. R-squared:                  0.987\n",
      "Method:                 Least Squares   F-statistic:                     904.1\n",
      "Date:                Sun, 14 May 2017   Prob (F-statistic):           6.50e-12\n",
      "Time:                        16:07:08   Log-Likelihood:                 83.777\n",
      "No. Observations:                  13   AIC:                            -163.6\n",
      "Df Residuals:                      11   BIC:                            -162.4\n",
      "Df Model:                           1                                         \n",
      "Covariance Type:            nonrobust                                         \n",
      "==============================================================================\n",
      "                 coef    std err          t      P>|t|      [95.0% Conf. Int.]\n",
      "------------------------------------------------------------------------------\n",
      "const          1.1233      0.061     18.297      0.000         0.988     1.258\n",
      "year           0.0009    3.1e-05     30.069      0.000         0.001     0.001\n",
      "==============================================================================\n",
      "Omnibus:                        0.310   Durbin-Watson:                   1.642\n",
      "Prob(Omnibus):                  0.856   Jarque-Bera (JB):                0.450\n",
      "Skew:                           0.094   Prob(JB):                        0.799\n",
      "Kurtosis:                       2.108   Cond. No.                     1.05e+06\n",
      "==============================================================================\n",
      "\n",
      "Warnings:\n",
      "[1] Standard Errors assume that the covariance matrix of the errors is correctly specified.\n",
      "[2] The condition number is large, 1.05e+06. This might indicate that there are\n",
      "strong multicollinearity or other numerical problems.\n"
     ]
    },
    {
     "name": "stderr",
     "output_type": "stream",
     "text": [
      "C:\\Users\\hshar\\Anaconda3\\lib\\site-packages\\scipy\\stats\\stats.py:1327: UserWarning: kurtosistest only valid for n>=20 ... continuing anyway, n=13\n",
      "  \"anyway, n=%i\" % int(n))\n"
     ]
    }
   ],
   "source": [
    "import statsmodels.api as sm\n",
    "\n",
    "y = pisa.lean # target as 1-d array\n",
    "X = pisa.year # features as 1-d array\n",
    "\n",
    "X = sm.add_constant(X) # change 1-d array to 2-d array with column of 1's as constant term\n",
    "\n",
    "# Ordinary Least Squares Fit; instantiate sm.OLS class\n",
    "linear = sm.OLS(y,X)\n",
    "\n",
    "# fit model\n",
    "linearfit = linear.fit()\n",
    "\n",
    "# use .summary() method to print summary of model\n",
    "print(linearfit.summary())\n",
    "\n",
    "\n"
   ]
  },
  {
   "cell_type": "markdown",
   "metadata": {},
   "source": [
    "<H3>Well that's pretty neat, but what it mean tho?</H3>\n",
    "<p>Formally, a basic linear regression model is defined as:</p>\n",
    "<p>$y_i=\\beta_0 + \\beta_1 x_i + e_i$ where:</p>\n",
    "<ul>\n",
    "<li>$e_i ~ N(0,\\sigma^2)$ is the error term for each observation $i$ and</li>\n",
    "<li>$\\beta_0$ is the intercept and $\\beta_1$ is the slope</li>\n",
    "<li>the $residual$ for the $ith$ observation is $e_i = \\hat{y}_i - y_i$, where $\\hat{y}_i$ is the prediction and $y_i$ is the observed value (in almost all situations, the residual is represented as a squared difference i.e. $(\\hat{y}_i - y_i)^2$. This is in order to avoid errors in different directions cancelling each other out when summed over. It's possible to represent residuals/error in terms of absolute value and, who knows, maybe even weirder stuff. However, those other approaches are not particularly useful for non-weirdos.) </li>\n",
    "<li>$N(0,\\sigma^2)$ is a normal distribution ($\\mu=0$ and a variance of $\\sigma^2$)</li>\n",
    "</ul>\n",
    "<p>So we got us some assumptions hyear:</p>\n",
    "<ol>\n",
    "<li>The errors A.K.A. residuals A.K.A. $e_i$ are normally distributed and</li>\n",
    "<li>The average error $\\bar{e}$ is 0</li>\n",
    "</ol>\n",
    "<p>The model we ultimately estimate is $\\hat{y}_i = \\hat{\\beta}_0 + \\hat{\\beta}_1 x_i$</p>\n",
    "\n",
    "<p>To put it simply, $\\hat{y}_i$ is a prediction for some observation, which, unless we're trying to guess something like how many minutes have passed based on how many seconds have passed, will not be perfectly accurate. The residual is just how wrong that guess is. Error is the global off-ness of our guesses</p>"
   ]
  },
  {
   "cell_type": "code",
   "execution_count": 4,
   "metadata": {
    "collapsed": true
   },
   "outputs": [],
   "source": [
    "# Let's have us a look at them residuals:\n",
    "\n",
    "# Predict using X and the fitted model\n",
    "yhat = linearfit.predict(X)\n",
    "\n",
    "# subtract y from yhat to get residuals\n",
    "residuals = yhat - y"
   ]
  },
  {
   "cell_type": "code",
   "execution_count": 33,
   "metadata": {
    "collapsed": false
   },
   "outputs": [
    {
     "data": {
      "image/png": "[encoded data removed]",
      "text/plain": [
       "<matplotlib.figure.Figure at 0x19ee9701668>"
      ]
     },
     "metadata": {},
     "output_type": "display_data"
    }
   ],
   "source": [
    "# Let's see how the residuals are distributed\n",
    "\n",
    "plt.hist(residuals, bins=5)\n",
    "\n",
    "plt.show()"
   ]
  },
  {
   "cell_type": "markdown",
   "metadata": {
    "collapsed": true
   },
   "source": [
    "<H3>Evaluating the linear model: Some Sums of Squares</H3>\n",
    "<H4>Sum of Square Error (SSE)</H4>\n",
    "<p>$SSE = \\sum_{i=1}^n (y_i - \\hat{y_i})^2 = \\sum_{i=1}^n e_i^2$</p>\n",
    "<p>SSE gives the sum of all residuals, thus providing a measure of the overall distance between the predicted and observed values</p>\n",
    "<H4>Regression Sum of Squares (RSS)</H4>\n",
    "<p>$RSS = \\sum_{i=1}^n (\\bar{y} - \\hat{y_i})^2 \\text{ where }\\bar{y} = \\dfrac{1}{n}\\sum_{i=1}^n y_i$</p>\n",
    "<p>RSS measures the difference of each prediction relative to the sample mean ($\\bar{y}$). The smaller the RSS, the more the predictions resemble the mean of the observed values, which is usually a sign that the model is not very good. The sweet spot is where SSE is relatively low and RSS is relatively high, which indicates that the difference between predicted and observed values is low, but the difference between predicted values and the mean is high.</p>\n",
    "<H4>Total Sum of Squares</H4>\n",
    "<p>$TSS = \\sum_{i=1}^n (y_i - \\bar{y})^2$</p>\n",
    "<p>This is basically variance.....</p>\n",
    "\n",
    "<p>So:</p>\n",
    "<ul>\n",
    "<li>SSE is the total difference between observed and predicted values</li>\n",
    "<li>RSS is the difference between each prediction and the mean</li>\n",
    "<li>TSS is the difference between each value and the mean</li>\n",
    "</ul>\n",
    "<p>This means that it can be shown that: $TSS=RSS+SSE$</p>\n"
   ]
  },
  {
   "cell_type": "code",
   "execution_count": 6,
   "metadata": {
    "collapsed": false
   },
   "outputs": [
    {
     "name": "stdout",
     "output_type": "stream",
     "text": [
      "SSE: 1.9228571428566404e-06,TSS: 0.00015996769230769499,RSS: 0.00015804483516481858\n"
     ]
    }
   ],
   "source": [
    "import numpy as np\n",
    "\n",
    "# Calculate SSE\n",
    "SSE = np.sum((y.values-yhat)**2)\n",
    "\n",
    "# Calculate TSS\n",
    "TSS = np.sum((y.values-np.mean(y.values))**2)\n",
    "\n",
    "# Calculate RSS\n",
    "RSS = np.sum((np.mean(y.values)-yhat)**2)\n",
    "\n",
    "print(\"SSE: {},\" \"TSS: {},\" \"RSS: {}\".format(SSE, TSS, RSS))"
   ]
  },
  {
   "cell_type": "markdown",
   "metadata": {},
   "source": [
    "<H3>R-Squared: Dat Coefficient of Determination</H3>\n",
    "<p>$R^2$ is a saucy little measure of <a href=\"https://en.wikipedia.org/wiki/Linear_independence\">linear dependance</a> which essentially tells us how well some vector represents a combination of the other vectors within a set of vectors. That is to say, how well does the set of numbers we produced with our model work as a combination of our observation vectors</p>\n",
    "<p>$R^2 = 1 - \\dfrac{SSE}{TSS} = \\dfrac{RSS}{TSS}$</p>"
   ]
  },
  {
   "cell_type": "code",
   "execution_count": 7,
   "metadata": {
    "collapsed": false
   },
   "outputs": [
    {
     "name": "stdout",
     "output_type": "stream",
     "text": [
      "R-squared: 0.9879797156842282\n"
     ]
    }
   ],
   "source": [
    "# Compute R-squared\n",
    "R2 = RSS/TSS\n",
    "print(\"R-squared: {}\".format(R2))"
   ]
  },
  {
   "cell_type": "markdown",
   "metadata": {},
   "source": [
    "<p>Neat....so that means that almost 99% of the variance observed is accounted for by the regression model, which makes sense if you look at the plot of the data points above. This is linear as all get out</p>\n",
    "\n",
    "<h4>Now let's look at some coefficients:</h4>\n"
   ]
  },
  {
   "cell_type": "code",
   "execution_count": 8,
   "metadata": {
    "collapsed": false
   },
   "outputs": [
    {
     "name": "stdout",
     "output_type": "stream",
     "text": [
      "                            OLS Regression Results                            \n",
      "==============================================================================\n",
      "Dep. Variable:                   lean   R-squared:                       0.988\n",
      "Model:                            OLS   Adj. R-squared:                  0.987\n",
      "Method:                 Least Squares   F-statistic:                     904.1\n",
      "Date:                Sun, 14 May 2017   Prob (F-statistic):           6.50e-12\n",
      "Time:                        16:07:08   Log-Likelihood:                 83.777\n",
      "No. Observations:                  13   AIC:                            -163.6\n",
      "Df Residuals:                      11   BIC:                            -162.4\n",
      "Df Model:                           1                                         \n",
      "Covariance Type:            nonrobust                                         \n",
      "==============================================================================\n",
      "                 coef    std err          t      P>|t|      [95.0% Conf. Int.]\n",
      "------------------------------------------------------------------------------\n",
      "const          1.1233      0.061     18.297      0.000         0.988     1.258\n",
      "year           0.0009    3.1e-05     30.069      0.000         0.001     0.001\n",
      "==============================================================================\n",
      "Omnibus:                        0.310   Durbin-Watson:                   1.642\n",
      "Prob(Omnibus):                  0.856   Jarque-Bera (JB):                0.450\n",
      "Skew:                           0.094   Prob(JB):                        0.799\n",
      "Kurtosis:                       2.108   Cond. No.                     1.05e+06\n",
      "==============================================================================\n",
      "\n",
      "Warnings:\n",
      "[1] Standard Errors assume that the covariance matrix of the errors is correctly specified.\n",
      "[2] The condition number is large, 1.05e+06. This might indicate that there are\n",
      "strong multicollinearity or other numerical problems.\n",
      "const    1.123338\n",
      "year     0.000932\n",
      "dtype: float64\n"
     ]
    },
    {
     "name": "stderr",
     "output_type": "stream",
     "text": [
      "C:\\Users\\hshar\\Anaconda3\\lib\\site-packages\\scipy\\stats\\stats.py:1327: UserWarning: kurtosistest only valid for n>=20 ... continuing anyway, n=13\n",
      "  \"anyway, n=%i\" % int(n))\n"
     ]
    }
   ],
   "source": [
    "# print model summary\n",
    "print(linearfit.summary())\n",
    "\n",
    "# print model parameters\n",
    "print(linearfit.params)\n",
    "\n",
    "\n"
   ]
  },
  {
   "cell_type": "code",
   "execution_count": 10,
   "metadata": {
    "collapsed": false
   },
   "outputs": [
    {
     "name": "stdout",
     "output_type": "stream",
     "text": [
      "0.01398\n",
      "0.013978021978\n"
     ]
    }
   ],
   "source": [
    "# So the constant is ~1.12 (this is the \"b\" in y=mx+b)\n",
    "\n",
    "# the \"m\" is .000932\n",
    "\n",
    "# let's predict how much lean we're gonna see over 15 years\n",
    "\n",
    "delta = (0.000932*15)\n",
    "\n",
    "print(delta)\n",
    "\n",
    "cooler_way_of_doing_it = linearfit.params['year']*15\n",
    "\n",
    "print(cooler_way_of_doing_it)"
   ]
  },
  {
   "cell_type": "markdown",
   "metadata": {},
   "source": []
  },
  {
   "cell_type": "markdown",
   "metadata": {},
   "source": [
    "<h3>Variance of Coefficients</h3>\n",
    "<p>The Variance of Coefficients is the estimated variance for a single varable used as a coefficient in the linear model</p>\n",
    "<p>For a single variable $\\hat{\\beta}_1$, the variance is defined as:</p>\n",
    "<p>$s^2(\\hat{\\beta_1}) = \\dfrac{\\sum_{i=1}^n (y_i - \\hat{y_i})^2}{(n-2) \\sum_{i=1}^n (x_i - \\bar{x})^2} = \\dfrac{SSE}{(n-2) \\sum_{i=1}^n (x_i - \\bar{x})^2}$</p>\n",
    "<p>The numerator, $SSE$, represents the error within the model as a whole. The denominator, measures the amount of variance within the independent variable, $x$:</p><p> $\\sum_{i=1}^n (x_i - \\bar{x})^2$, and is nomalized over the $SSE$ terms by multiplying by $(n-2)$, since we have 2 degrees of freedom </p>"
   ]
  },
  {
   "cell_type": "code",
   "execution_count": 12,
   "metadata": {
    "collapsed": false
   },
   "outputs": [
    {
     "name": "stdout",
     "output_type": "stream",
     "text": [
      "Variance of year: 9.604681033249953e-10\n"
     ]
    }
   ],
   "source": [
    "#Calculating variance of coefficient \"Year\" \n",
    "# get the mean\n",
    "x_bar = np.mean(pisa.year)\n",
    "\n",
    "# sum over x values - x_bar squared and divide SSE by the value:\n",
    "s2b1 = SSE / ((pisa.shape[0]-2) * (np.sum((pisa.year - x_bar)**2)))\n",
    "\n",
    "print(\"Variance of year: {}\".format(s2b1))"
   ]
  },
  {
   "cell_type": "markdown",
   "metadata": {},
   "source": [
    "<H3>The T-Distribution</H3>\n",
    "<p>Now that we have a linear model, we can show that the dependent variable (dat lean) is dependent on the independent variable (year)</p>\n",
    "<p>We use Student's t-test for this, which relies on the <a href=\"https://en.wikipedia.org/wiki/Student%27s_t-distribution\"> t-distribution</a>, which is useful when the sample size is small and the population standard deviation is unknown.</p>\n",
    "<p>If we take a sample of n observations from a normal distribution, the t-distribution with $v=n-1$ degrees of freedom can be defined as the distribution of the location of the sample mean relative to the true mean divided by the standard deviation, after multiplying by the standardizing term $\\sqrt{n}$</p>\n",
    "<p>It's worth emphasizing that the main difference between the normal distribution and the t-distribution is that the normal distribution assumes that we are looking at the entire population, whereas the t-distribution accounts for the limited sample size by increasing the variance relative to the number of observations</p>"
   ]
  },
  {
   "cell_type": "code",
   "execution_count": 21,
   "metadata": {
    "collapsed": false
   },
   "outputs": [
    {
     "data": {
      "image/png": "[encoded data removed]",
      "text/plain": [
       "<matplotlib.figure.Figure at 0x19ee93dfe80>"
      ]
     },
     "metadata": {},
     "output_type": "display_data"
    }
   ],
   "source": [
    "from scipy.stats import t\n",
    "\n",
    "# generate 100 values between -3 and 3\n",
    "x = np.linspace(-3,3, 100)\n",
    "\n",
    "# compute the pdf with 3 degrees of freedom:\n",
    "three_dof_pdf = t.pdf(x=x, df=3)\n",
    "two_dof_pdf = t.pdf(x=x, df=2)\n",
    "five_dof_pdf = t.pdf(x=x, df=5)\n",
    "\n",
    "plt.plot(three_dof_pdf)\n",
    "plt.plot(two_dof_pdf, c='g')\n",
    "plt.plot(five_dof_pdf, c= 'r')\n",
    "plt.show()"
   ]
  },
  {
   "cell_type": "code",
   "execution_count": 25,
   "metadata": {
    "collapsed": false
   },
   "outputs": [
    {
     "data": {
      "image/png": "[encoded data removed]",
      "text/plain": [
       "<matplotlib.figure.Figure at 0x19ee95fe1d0>"
      ]
     },
     "metadata": {},
     "output_type": "display_data"
    }
   ],
   "source": [
    "# Plot for our data\n",
    "pisa_pdf = t.pdf(x=x, df=2)\n",
    "plt.plot(pisa_pdf)\n",
    "plt.show()\n"
   ]
  },
  {
   "cell_type": "markdown",
   "metadata": {},
   "source": [
    "<h3>Statistical Significance of Coefficients</h3>\n",
    "<p>Now that we have a t-distribution probability density function, we can do some significance testing</p>\n",
    "<p>Step one: State dat hypothesis:</p>\n",
    "<p>$H_0:\\:\\beta_1 = 0\\:\\:H_1:\\:\\beta_1\\neq 0$</p>\n",
    "<p>Step two: Test dat null hypothesis ($H_0$)</p>\n",
    "<p>Using the t-statistic, $t = \\dfrac{\\left|\\hat{\\beta_1} - 0\\right|} {\\sqrt{s^2(\\hat{\\beta_1})}}$,<br>where the numerator is the absolute value of the coefficient ($\\hat{\\beta}_1$) and the denominator is the standard deviation of the variance of that coefficient: $\\sqrt{s^2(\\hat{\\beta}_1)}$</p>\n",
    "<p>This tells us how many standard deviations the expected coefficient is from zero. Looking at the pdf above, we can see that the a high t-statistic will be less likely the further away from zero you get</p>"
   ]
  },
  {
   "cell_type": "code",
   "execution_count": 34,
   "metadata": {
    "collapsed": false
   },
   "outputs": [
    {
     "name": "stdout",
     "output_type": "stream",
     "text": [
      "30.0685846877\n"
     ]
    }
   ],
   "source": [
    "# Let's find that t-statistic\n",
    "\n",
    "tstat = (np.absolute(linearfit.params[\"year\"]-0)/(s2b1**.5))\n",
    "\n",
    "print(tstat)"
   ]
  },
  {
   "cell_type": "markdown",
   "metadata": {},
   "source": [
    "<H3>Testing the coefficient</H3>\n",
    "<p>Now that we have the t-statistic, we can test our coefficient</p>\n",
    "<p>To do this we need to find the probability that $\\beta_1$ is different from 0 at some significance level (P-values). Like all dem scientists, let's just use .05, meaning that we want to be 95% certain that $\\beta_1$ differs from 0</p>\n",
    "<p>Using the probability density function of the t-distribution, we can determine the probability of our result given our p-value and degrees of freedom</p>\n",
    "<p>So, if $\\beta_1$ is our coefficient for our values of x, we're determining whether it improves up on just drawing a line through the data at the intercept with a slope of 0</p> \n",
    "\n",
    "<H3>READ UP MORE ON THIS SHIT</H3>\n",
    "<ul>\n",
    "<li><a href=\"https://en.wikipedia.org/wiki/Degrees_of_freedom_(statistics)\">Degrees of Freedom</a></li>\n",
    "<li><a href=\"http://www.statisticshowto.com/probability-and-statistics/regression-analysis/\">Regression Analysis</a></li>\n",
    "<li><a href=\"https://en.wikipedia.org/wiki/Student%27s_t-test\">Student's T-test</a></li>\n",
    "</ul>"
   ]
  },
  {
   "cell_type": "code",
   "execution_count": 36,
   "metadata": {
    "collapsed": false
   },
   "outputs": [
    {
     "name": "stdout",
     "output_type": "stream",
     "text": [
      "0.999999999997\n"
     ]
    }
   ],
   "source": [
    "# At the 95% confidence interval for a two-sided t-test we must use a p-value of 0.975\n",
    "pval = 0.975\n",
    "\n",
    "# The degrees of freedom\n",
    "df = pisa.shape[0] - 2\n",
    "\n",
    "# The probability to test against\n",
    "p = t.cdf(tstat, df=df)\n",
    "\n",
    "beta1_test = True\n",
    "print(p)"
   ]
  },
  {
   "cell_type": "code",
   "execution_count": null,
   "metadata": {
    "collapsed": false
   },
   "outputs": [],
   "source": [
    "\n"
   ]
  },
  {
   "cell_type": "code",
   "execution_count": null,
   "metadata": {
    "collapsed": true
   },
   "outputs": [],
   "source": []
  }
 ],
 "metadata": {
  "kernelspec": {
   "display_name": "Python 3",
   "language": "python",
   "name": "python3"
  },
  "language_info": {
   "codemirror_mode": {
    "name": "ipython",
    "version": 3
   },
   "file_extension": ".py",
   "mimetype": "text/x-python",
   "name": "python",
   "nbconvert_exporter": "python",
   "pygments_lexer": "ipython3",
   "version": "3.6.0"
  }
 },
 "nbformat": 4,
 "nbformat_minor": 2
}
