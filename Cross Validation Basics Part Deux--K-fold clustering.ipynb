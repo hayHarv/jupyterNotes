{
 "cells": [
  {
   "cell_type": "code",
   "execution_count": 2,
   "metadata": {
    "collapsed": false
   },
   "outputs": [
    {
     "data": {
      "text/html": [
       "<div>\n",
       "<table border=\"1\" class=\"dataframe\">\n",
       "  <thead>\n",
       "    <tr style=\"text-align: right;\">\n",
       "      <th></th>\n",
       "      <th>gpa</th>\n",
       "      <th>gre</th>\n",
       "      <th>actual_label</th>\n",
       "    </tr>\n",
       "  </thead>\n",
       "  <tbody>\n",
       "    <tr>\n",
       "      <th>0</th>\n",
       "      <td>3.177277</td>\n",
       "      <td>594.102992</td>\n",
       "      <td>0</td>\n",
       "    </tr>\n",
       "    <tr>\n",
       "      <th>1</th>\n",
       "      <td>3.412655</td>\n",
       "      <td>631.528607</td>\n",
       "      <td>0</td>\n",
       "    </tr>\n",
       "    <tr>\n",
       "      <th>2</th>\n",
       "      <td>2.728097</td>\n",
       "      <td>553.714399</td>\n",
       "      <td>0</td>\n",
       "    </tr>\n",
       "    <tr>\n",
       "      <th>3</th>\n",
       "      <td>3.093559</td>\n",
       "      <td>551.089985</td>\n",
       "      <td>0</td>\n",
       "    </tr>\n",
       "    <tr>\n",
       "      <th>4</th>\n",
       "      <td>3.141923</td>\n",
       "      <td>537.184894</td>\n",
       "      <td>0</td>\n",
       "    </tr>\n",
       "  </tbody>\n",
       "</table>\n",
       "</div>"
      ],
      "text/plain": [
       "        gpa         gre  actual_label\n",
       "0  3.177277  594.102992             0\n",
       "1  3.412655  631.528607             0\n",
       "2  2.728097  553.714399             0\n",
       "3  3.093559  551.089985             0\n",
       "4  3.141923  537.184894             0"
      ]
     },
     "execution_count": 2,
     "metadata": {},
     "output_type": "execute_result"
    }
   ],
   "source": [
    "import pandas as pd\n",
    "import matplotlib.pyplot as plt\n",
    "import seaborn as sns\n",
    "from sklearn.linear_model import LogisticRegression\n",
    "import numpy as np\n",
    "import os\n",
    "%matplotlib inline\n",
    "data = \"admission.csv\"\n",
    "admissions = pd.read_csv(os.path.relpath(\"Data\\\\\"+data))\n",
    "admissions['actual_label'] = admissions['admit']\n",
    "admissions.drop('admit', axis=1, inplace=True)\n",
    "admissions.head()"
   ]
  },
  {
   "cell_type": "markdown",
   "metadata": {},
   "source": [
    "<h3>K-Fold</h3>\n",
    "<p><a href=\"https://en.wikipedia.org/wiki/Cross-validation_(statistics)#k-fold_cross-validation\">K-fold cross-validation</a> consists of partitioning a dataset into $k-$equally sized partitions and then training a model on each of $k-1$ of the partitions, retaining the remaining partition for testing</p>\n",
    "<p>Ultimately, this means repeating the model training process k-1 times until each of the folds has been used as a test set. At each iteration some (or several) accuracy measurements are documented, allowing for a mean to be calculated for each of the k error measurements</p>\n",
    "<table>\n",
    "<caption>Example of k=5 k-fold validation</caption>\n",
    "<tr>\n",
    "    <th>Iteration</th><th>Partition 1</th><th>Partition 2</th><th>Partition 3</th><th>Partition 4</th><th>Partition 5</th>\n",
    "</tr>\n",
    "<tr><td>1</td><td><b>Train</b></td><td>Test</td><td>Test</td><td>Test</td><td>Test</td></tr>\n",
    "<tr><td>2</td><td>Test</td><td><b>Train</b></td><td>Test</td><td>Test</td><td>Test</td></tr>\n",
    "<tr><td>3</td><td>Test</td><td>Test</td><td><b>Train</b></td><td>Test</td><td>Test</td></tr>\n",
    "<tr><td>4</td><td>Test</td><td>Test</td><td>Test</td><td><b>Train</b></td><td>Test</td></tr>\n",
    "<tr><td>5</td><td>Test</td><td>Test</td><td>Test</td><td>Test</td><td><b>Train</b></td></tr>\n",
    "</table>\n"
   ]
  },
  {
   "cell_type": "code",
   "execution_count": 3,
   "metadata": {
    "collapsed": false
   },
   "outputs": [],
   "source": [
    "\n",
    "# Randomize index\n",
    "shuffled_index = np.random.permutation(admissions.index)\n",
    "\n",
    "# Randomize Data\n",
    "shuffled_admissions = admissions.loc[shuffled_index]\n",
    "\n",
    "# Reset Index\n",
    "admissions = shuffled_admissions.reset_index()\n",
    "\n"
   ]
  },
  {
   "cell_type": "code",
   "execution_count": 4,
   "metadata": {
    "collapsed": false
   },
   "outputs": [
    {
     "name": "stdout",
     "output_type": "stream",
     "text": [
      "128.8\n"
     ]
    }
   ],
   "source": [
    "# Assign Folds\n",
    "print(admissions.shape[0]/5)\n",
    "# folds will be index 0:128, 129:257, 258:386, 387:514, 515:644\n",
    "k_indices_starts = [0,129,258,387,515]\n",
    "k_indices_stops = [128,257,386,514,644]\n",
    "\n",
    "for i in range(5):\n",
    "    admissions.ix[k_indices_starts[i]:k_indices_stops[i],'fold'] = i+1\n",
    "\n",
    "admissions.head()\n",
    "admissions['fold'] = admissions['fold'].astype(int)"
   ]
  },
  {
   "cell_type": "code",
   "execution_count": 5,
   "metadata": {
    "collapsed": false
   },
   "outputs": [
    {
     "name": "stdout",
     "output_type": "stream",
     "text": [
      "accuracies_list: [0.6976744186046512, 0.6434108527131783, 0.6124031007751938, 0.6484375, 0.6046511627906976]\n",
      "1: 0.6976744186046512\n",
      "2: 0.6434108527131783\n",
      "3: 0.6124031007751938\n",
      "4: 0.6484375\n",
      "5: 0.6046511627906976\n",
      "Mean Accuracy: 0.6413154069767442\n"
     ]
    },
    {
     "name": "stderr",
     "output_type": "stream",
     "text": [
      "C:\\Users\\hshar\\Anaconda3\\lib\\site-packages\\ipykernel\\__main__.py:14: SettingWithCopyWarning: \n",
      "A value is trying to be set on a copy of a slice from a DataFrame.\n",
      "Try using .loc[row_indexer,col_indexer] = value instead\n",
      "\n",
      "See the caveats in the documentation: http://pandas.pydata.org/pandas-docs/stable/indexing.html#indexing-view-versus-copy\n"
     ]
    }
   ],
   "source": [
    "def accuracy(matches, total):\n",
    "    return matches/total\n",
    "\n",
    "# Recall we have a column 'fold' that contains the labels for each fold\n",
    "\n",
    "def k_fold_testing(fold_ids: list, x: str, y: str, df):\n",
    "    accuracies = dict(accuracies_list=[])\n",
    "    for fold in fold_ids:\n",
    "        train = df[df['fold'] != fold]\n",
    "        test = df[df['fold'] == fold]\n",
    "        model = LogisticRegression()\n",
    "        model.fit(train[[x]],train[y])\n",
    "        predictions = model.predict(test[[x]])\n",
    "        test['predicted_labels'] = predictions\n",
    "        matches = test['predicted_labels']==test[y]\n",
    "        correct_predictions = test[matches]\n",
    "        accuracy = correct_predictions.shape[0]/test.shape[0]\n",
    "        accuracies[fold] = accuracy\n",
    "        accuracies['accuracies_list'].append(accuracy)\n",
    "    accuracies['Mean Accuracy'] = np.mean(accuracies['accuracies_list'])\n",
    "    return accuracies\n",
    "\n",
    "test_iteration = k_fold_testing([1,2,3,4,5], 'gpa','actual_label',admissions)\n",
    "\n",
    "for key, value in test_iteration.items():\n",
    "    print(\"{}: {}\".format(key, value))\n",
    "\n",
    "    \n",
    "    "
   ]
  },
  {
   "cell_type": "markdown",
   "metadata": {},
   "source": [
    "<h3>What just happened?</h3>\n",
    "<p>Above we defined a function that runs through testing validation for each of the k fold ids</p>\n",
    "<p>In pseudo code:</p>\n",
    "<p>````For each fold:\n",
    "       train a model\n",
    "       predict values in test set\n",
    "       return accuracy````</p>\n",
    "<p>Fortunately we have a scikitlearn class, <a href=\"http://scikit-learn.org/stable/modules/generated/sklearn.model_selection.cross_val_score.html\">KFold</a> that can take care of this for us</p>\n",
    "<p>The KFold class is instantiated with ````KFold(n ,n_folds, shuffle=False, random_state=None)````</p>\n",
    "<p>Where: n is the number of observations, n_folds is the number of folds, shuffle (duh), random_state is the seed value for shuffle if it is used</p>\n",
    "\n",
    "<p>The KFold class only returns an iterator object for running through the k-iterations of testing. To cross validate a model using the KFold class, we use the <a href=\"http://scikit-learn.org/stable/modules/generated/sklearn.cross_validation.cross_val_score.html\">````sklearn.cross_validation.cross_validation_score(estimator, X, Y, scoring=None, cv=None)````</a> function. Where:</p>\n",
    "<ul>\n",
    "<li>estimator is the instance of sklearn predictive model to be applied</li>\n",
    "<li>X is the array of the independent variable</li>\n",
    "<li>Y is the dependent variable column</li>\n",
    "<li>scoring is the <a href=\"http://scikit-learn.org/stable/modules/model_evaluation.html#common-cases-predefined-values\">type of scoring</a> to perform</li>\n",
    "<li>cv is the number of folds, it will accept an integer representing the no. of folds or an instance of the KFold class</li>\n",
    "</ul>"
   ]
  },
  {
   "cell_type": "code",
   "execution_count": 6,
   "metadata": {
    "collapsed": false
   },
   "outputs": [
    {
     "name": "stderr",
     "output_type": "stream",
     "text": [
      "C:\\Users\\hshar\\Anaconda3\\lib\\site-packages\\sklearn\\cross_validation.py:44: DeprecationWarning: This module was deprecated in version 0.18 in favor of the model_selection module into which all the refactored classes and functions are moved. Also note that the interface of the new CV iterators are different from that of this module. This module will be removed in 0.20.\n",
      "  \"This module will be removed in 0.20.\", DeprecationWarning)\n"
     ]
    },
    {
     "name": "stdout",
     "output_type": "stream",
     "text": [
      "[ 0.60465116  0.6744186   0.60465116  0.65116279  0.6484375 ]\n",
      "0.636664244186\n"
     ]
    }
   ],
   "source": [
    "from sklearn.cross_validation import KFold\n",
    "from sklearn.cross_validation import cross_val_score\n",
    "\n",
    "# Create instance of KFold class\n",
    "kf = KFold(admissions.shape[0], 5, shuffle=True, random_state=8)\n",
    "\n",
    "# Create instance of LogisticRegression\n",
    "lr = LogisticRegression()\n",
    "\n",
    "# Use cross_val_score function to get accuracies (note: cv=kf)\n",
    "accuracies = cross_val_score(lr, admissions[['gpa']], admissions['actual_label'], scoring='accuracy', cv=kf)\n",
    "average_accuracy = np.mean(accuracies)\n",
    "\n",
    "print(accuracies)\n",
    "print(average_accuracy)"
   ]
  },
  {
   "cell_type": "code",
   "execution_count": null,
   "metadata": {
    "collapsed": true
   },
   "outputs": [],
   "source": []
  }
 ],
 "metadata": {
  "kernelspec": {
   "display_name": "Python 3",
   "language": "python",
   "name": "python3"
  },
  "language_info": {
   "codemirror_mode": {
    "name": "ipython",
    "version": 3
   },
   "file_extension": ".py",
   "mimetype": "text/x-python",
   "name": "python",
   "nbconvert_exporter": "python",
   "pygments_lexer": "ipython3",
   "version": "3.6.0"
  }
 },
 "nbformat": 4,
 "nbformat_minor": 0
}
