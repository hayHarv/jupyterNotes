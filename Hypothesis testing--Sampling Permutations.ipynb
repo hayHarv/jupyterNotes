{
 "cells": [
  {
   "cell_type": "markdown",
   "metadata": {},
   "source": [
    "<h2>Null hypothesis testing</h2>\n",
    "<p>with 2 conditions in an experiment, we need to determine a measurement of difference between the two groups, say $A$ and $B$</p>\n",
    "<p>For $A$, we represent the mean with $\\bar{x}_a$, for $B$, $\\bar{x}_b$</p>\n",
    "<p>By subtracting, $\\bar{x}_a-\\bar{x}_b$, we can get a sense of the difference between the groups</p>\n",
    "<p>Null Hypothesis: $\\bar{x}_a-\\bar{x}_b=0$</p>\n",
    "<p>Reject Null Hypothesis $\\bar{x}_a-\\bar{x}_b \\neq 0$</p>"
   ]
  },
  {
   "cell_type": "code",
   "execution_count": 2,
   "metadata": {
    "collapsed": true
   },
   "outputs": [],
   "source": [
    "import random, numpy as np, matplotlib.pyplot as plt, pandas as pd, os\n",
    "%matplotlib inline"
   ]
  },
  {
   "cell_type": "code",
   "execution_count": 3,
   "metadata": {
    "collapsed": false
   },
   "outputs": [
    {
     "data": {
      "text/html": [
       "<div>\n",
       "<table border=\"1\" class=\"dataframe\">\n",
       "  <thead>\n",
       "    <tr style=\"text-align: right;\">\n",
       "      <th></th>\n",
       "      <th>FILM</th>\n",
       "      <th>RottenTomatoes</th>\n",
       "      <th>RottenTomatoes_User</th>\n",
       "      <th>Metacritic</th>\n",
       "      <th>Metacritic_User</th>\n",
       "      <th>IMDB</th>\n",
       "      <th>Fandango_Stars</th>\n",
       "      <th>Fandango_Ratingvalue</th>\n",
       "      <th>RT_norm</th>\n",
       "      <th>RT_user_norm</th>\n",
       "      <th>...</th>\n",
       "      <th>IMDB_norm</th>\n",
       "      <th>RT_norm_round</th>\n",
       "      <th>RT_user_norm_round</th>\n",
       "      <th>Metacritic_norm_round</th>\n",
       "      <th>Metacritic_user_norm_round</th>\n",
       "      <th>IMDB_norm_round</th>\n",
       "      <th>Metacritic_user_vote_count</th>\n",
       "      <th>IMDB_user_vote_count</th>\n",
       "      <th>Fandango_votes</th>\n",
       "      <th>Fandango_Difference</th>\n",
       "    </tr>\n",
       "  </thead>\n",
       "  <tbody>\n",
       "    <tr>\n",
       "      <th>0</th>\n",
       "      <td>Avengers: Age of Ultron (2015)</td>\n",
       "      <td>74</td>\n",
       "      <td>86</td>\n",
       "      <td>66</td>\n",
       "      <td>7.1</td>\n",
       "      <td>7.8</td>\n",
       "      <td>5.0</td>\n",
       "      <td>4.5</td>\n",
       "      <td>3.70</td>\n",
       "      <td>4.3</td>\n",
       "      <td>...</td>\n",
       "      <td>3.90</td>\n",
       "      <td>3.5</td>\n",
       "      <td>4.5</td>\n",
       "      <td>3.5</td>\n",
       "      <td>3.5</td>\n",
       "      <td>4.0</td>\n",
       "      <td>1330</td>\n",
       "      <td>271107</td>\n",
       "      <td>14846</td>\n",
       "      <td>0.5</td>\n",
       "    </tr>\n",
       "    <tr>\n",
       "      <th>1</th>\n",
       "      <td>Cinderella (2015)</td>\n",
       "      <td>85</td>\n",
       "      <td>80</td>\n",
       "      <td>67</td>\n",
       "      <td>7.5</td>\n",
       "      <td>7.1</td>\n",
       "      <td>5.0</td>\n",
       "      <td>4.5</td>\n",
       "      <td>4.25</td>\n",
       "      <td>4.0</td>\n",
       "      <td>...</td>\n",
       "      <td>3.55</td>\n",
       "      <td>4.5</td>\n",
       "      <td>4.0</td>\n",
       "      <td>3.5</td>\n",
       "      <td>4.0</td>\n",
       "      <td>3.5</td>\n",
       "      <td>249</td>\n",
       "      <td>65709</td>\n",
       "      <td>12640</td>\n",
       "      <td>0.5</td>\n",
       "    </tr>\n",
       "    <tr>\n",
       "      <th>2</th>\n",
       "      <td>Ant-Man (2015)</td>\n",
       "      <td>80</td>\n",
       "      <td>90</td>\n",
       "      <td>64</td>\n",
       "      <td>8.1</td>\n",
       "      <td>7.8</td>\n",
       "      <td>5.0</td>\n",
       "      <td>4.5</td>\n",
       "      <td>4.00</td>\n",
       "      <td>4.5</td>\n",
       "      <td>...</td>\n",
       "      <td>3.90</td>\n",
       "      <td>4.0</td>\n",
       "      <td>4.5</td>\n",
       "      <td>3.0</td>\n",
       "      <td>4.0</td>\n",
       "      <td>4.0</td>\n",
       "      <td>627</td>\n",
       "      <td>103660</td>\n",
       "      <td>12055</td>\n",
       "      <td>0.5</td>\n",
       "    </tr>\n",
       "    <tr>\n",
       "      <th>3</th>\n",
       "      <td>Do You Believe? (2015)</td>\n",
       "      <td>18</td>\n",
       "      <td>84</td>\n",
       "      <td>22</td>\n",
       "      <td>4.7</td>\n",
       "      <td>5.4</td>\n",
       "      <td>5.0</td>\n",
       "      <td>4.5</td>\n",
       "      <td>0.90</td>\n",
       "      <td>4.2</td>\n",
       "      <td>...</td>\n",
       "      <td>2.70</td>\n",
       "      <td>1.0</td>\n",
       "      <td>4.0</td>\n",
       "      <td>1.0</td>\n",
       "      <td>2.5</td>\n",
       "      <td>2.5</td>\n",
       "      <td>31</td>\n",
       "      <td>3136</td>\n",
       "      <td>1793</td>\n",
       "      <td>0.5</td>\n",
       "    </tr>\n",
       "    <tr>\n",
       "      <th>4</th>\n",
       "      <td>Hot Tub Time Machine 2 (2015)</td>\n",
       "      <td>14</td>\n",
       "      <td>28</td>\n",
       "      <td>29</td>\n",
       "      <td>3.4</td>\n",
       "      <td>5.1</td>\n",
       "      <td>3.5</td>\n",
       "      <td>3.0</td>\n",
       "      <td>0.70</td>\n",
       "      <td>1.4</td>\n",
       "      <td>...</td>\n",
       "      <td>2.55</td>\n",
       "      <td>0.5</td>\n",
       "      <td>1.5</td>\n",
       "      <td>1.5</td>\n",
       "      <td>1.5</td>\n",
       "      <td>2.5</td>\n",
       "      <td>88</td>\n",
       "      <td>19560</td>\n",
       "      <td>1021</td>\n",
       "      <td>0.5</td>\n",
       "    </tr>\n",
       "  </tbody>\n",
       "</table>\n",
       "<p>5 rows × 22 columns</p>\n",
       "</div>"
      ],
      "text/plain": [
       "                             FILM  RottenTomatoes  RottenTomatoes_User  \\\n",
       "0  Avengers: Age of Ultron (2015)              74                   86   \n",
       "1               Cinderella (2015)              85                   80   \n",
       "2                  Ant-Man (2015)              80                   90   \n",
       "3          Do You Believe? (2015)              18                   84   \n",
       "4   Hot Tub Time Machine 2 (2015)              14                   28   \n",
       "\n",
       "   Metacritic  Metacritic_User  IMDB  Fandango_Stars  Fandango_Ratingvalue  \\\n",
       "0          66              7.1   7.8             5.0                   4.5   \n",
       "1          67              7.5   7.1             5.0                   4.5   \n",
       "2          64              8.1   7.8             5.0                   4.5   \n",
       "3          22              4.7   5.4             5.0                   4.5   \n",
       "4          29              3.4   5.1             3.5                   3.0   \n",
       "\n",
       "   RT_norm  RT_user_norm         ...           IMDB_norm  RT_norm_round  \\\n",
       "0     3.70           4.3         ...                3.90            3.5   \n",
       "1     4.25           4.0         ...                3.55            4.5   \n",
       "2     4.00           4.5         ...                3.90            4.0   \n",
       "3     0.90           4.2         ...                2.70            1.0   \n",
       "4     0.70           1.4         ...                2.55            0.5   \n",
       "\n",
       "   RT_user_norm_round  Metacritic_norm_round  Metacritic_user_norm_round  \\\n",
       "0                 4.5                    3.5                         3.5   \n",
       "1                 4.0                    3.5                         4.0   \n",
       "2                 4.5                    3.0                         4.0   \n",
       "3                 4.0                    1.0                         2.5   \n",
       "4                 1.5                    1.5                         1.5   \n",
       "\n",
       "   IMDB_norm_round  Metacritic_user_vote_count  IMDB_user_vote_count  \\\n",
       "0              4.0                        1330                271107   \n",
       "1              3.5                         249                 65709   \n",
       "2              4.0                         627                103660   \n",
       "3              2.5                          31                  3136   \n",
       "4              2.5                          88                 19560   \n",
       "\n",
       "   Fandango_votes  Fandango_Difference  \n",
       "0           14846                  0.5  \n",
       "1           12640                  0.5  \n",
       "2           12055                  0.5  \n",
       "3            1793                  0.5  \n",
       "4            1021                  0.5  \n",
       "\n",
       "[5 rows x 22 columns]"
      ]
     },
     "execution_count": 3,
     "metadata": {},
     "output_type": "execute_result"
    }
   ],
   "source": [
    "data = \"fandango_score_comparison.csv\"\n",
    "fandango_df = pd.read_csv(os.path.relpath(\"Data\\\\\"+data))\n",
    "fandango_df.head()"
   ]
  },
  {
   "cell_type": "markdown",
   "metadata": {},
   "source": [
    "<h2>Test Statistic</h2>\n",
    "<p>Now we can determine what's being tested. In this case, let's look at the difference between the mean rating for the Rotten Tomatoes Critics aggregated scores and User aggregated scores for these movies</p>\n",
    "<p>So $\\bar{x}_a$ is the mean of \"RottenTomatoes\" and $\\bar{x}_b$ is the mean of \"RottenTomatoes_User\"</p>"
   ]
  },
  {
   "cell_type": "code",
   "execution_count": 64,
   "metadata": {
    "collapsed": false,
    "scrolled": true
   },
   "outputs": [
    {
     "name": "stdout",
     "output_type": "stream",
     "text": [
      "-3.027397260273979\n"
     ]
    }
   ],
   "source": [
    "RT_mean = fandango_df[\"RottenTomatoes\"].mean()\n",
    "RT_User_mean = fandango_df[\"RottenTomatoes_User\"].mean()\n",
    "Mean_diff = RT_mean - RT_User_mean\n",
    "print(Mean_diff)"
   ]
  },
  {
   "cell_type": "markdown",
   "metadata": {},
   "source": [
    "<h2>The Statistical Test</h2>\n",
    "<p>With the test statistic (the statistic to-be-tested) established, we need to choose a statistical test</p>\n",
    "<p>In this case, we can use a <a href=\"https://en.wikipedia.org/wiki/Resampling_(statistics)#Permutation_tests\">permutation test</a> which randomly assigns values from both columns into each other a bunch of times. This simulates randomly selecting from a larger population. The number of permutations of the data, ideally, would be the number of possible permutations, but this is a pretty big number, so folks usually select one stopping point</p>"
   ]
  },
  {
   "cell_type": "code",
   "execution_count": 65,
   "metadata": {
    "collapsed": false
   },
   "outputs": [
    {
     "name": "stdout",
     "output_type": "stream",
     "text": [
      "1000\n"
     ]
    },
    {
     "data": {
      "image/png": "[encoded data removed]",
      "text/plain": [
       "<matplotlib.figure.Figure at 0x95a4d50>"
      ]
     },
     "metadata": {},
     "output_type": "display_data"
    }
   ],
   "source": [
    "\n",
    "RT_values = fandango_df[\"RottenTomatoes\"]\n",
    "RT_user_values = fandango_df[\"RottenTomatoes_User\"]\n",
    "#create big list of all values in both conditions\n",
    "all_values = RT_values.append(RT_user_values)\n",
    "\n",
    "mean_differences = []\n",
    "#create 1000 series of values randomly selected from all_values\n",
    "for i in range(0,1000):\n",
    "    group_a = []\n",
    "    group_b = []\n",
    "    for i in all_values:\n",
    "        #use random.rand to produce # between 0 and 1 \n",
    "        if np.random.rand() >=.5:\n",
    "            group_a.append(i)\n",
    "        else:\n",
    "            group_b.append(i)\n",
    "    iteration_mean_diff = np.mean(group_b)-np.mean(group_a)\n",
    "    mean_differences.append(iteration_mean_diff)\n",
    "print(len(mean_differences))\n",
    "plt.hist(mean_differences)\n",
    "plt.show()"
   ]
  },
  {
   "cell_type": "markdown",
   "metadata": {},
   "source": [
    "<h2>Representing the sampling distribution</h2>\n",
    "<p>In this case, we want to create a dictionary with each of the mean differences as  keys and their frequency as values</p>\n",
    "```python\n",
    "empty_dict = {}\n",
    "empty_dict.get(\"value\", False) #see if value is in dict, return False if not\n",
    "\n",
    "```\n",
    "<p>To do: use .get() method to test if each value in array of mean differences is in the dictionary, if not, add 1 as the value, if it's in there, increment 1</p>\n",
    "\n"
   ]
  },
  {
   "cell_type": "code",
   "execution_count": 66,
   "metadata": {
    "collapsed": true
   },
   "outputs": [],
   "source": [
    "#takes array of sampling mean differences and returns frequency dictionary\n",
    "def create_sampling_distribution(array): \n",
    "    distributions = {}\n",
    "    for i in array:\n",
    "        if distributions.get(i, False):\n",
    "            val = distributions.get(i)\n",
    "            inc = val +1\n",
    "            distributions[i]=inc\n",
    "        else:\n",
    "            distributions[i]=1\n",
    "    return distributions\n",
    "RT_dist = create_sampling_distribution(mean_differences)"
   ]
  },
  {
   "cell_type": "markdown",
   "metadata": {},
   "source": [
    "<h2>Dat P-value</h2>\n",
    "<p>Now that we have the dictionary containing the frequency of each mean difference in our permutations, we can test the probability that an observed effect in our permutations is greater than or equal to the observed difference between the two groups.</p>\n",
    "<p>If we set $p = .05$, and have 1000 permutations, then we'd need to see less than 50 instances in the permutations greater than our observed difference</p>"
   ]
  },
  {
   "cell_type": "code",
   "execution_count": 67,
   "metadata": {
    "collapsed": false
   },
   "outputs": [
    {
     "name": "stdout",
     "output_type": "stream",
     "text": [
      "0.167689161554\n"
     ]
    }
   ],
   "source": [
    "#takes dictionary of sampling distributions, returns probability of > observed effect\n",
    "def greater_than_observation(sampling_distribution, test_statistic):\n",
    "    frequencies = []\n",
    "    for key in sampling_distribution:\n",
    "        if key<=test_statistic: #note, used less than cuz the mean difference in observations is negative\n",
    "            frequencies.append(sampling_distribution[key])\n",
    "    p_value = np.sum(frequencies)/len(sampling_distribution)\n",
    "    return p_value\n",
    "RT_p_value = greater_than_observation(RT_dist, Mean_diff)\n",
    "print(RT_p_value)"
   ]
  },
  {
   "cell_type": "markdown",
   "metadata": {},
   "source": [
    "<p>Given the above p-value, we can see with a cdf that after about 200 permutations, it's pretty much guaranteed that we'd see a similar effect to what was observed in the data. HOWEVER, remember that we're looking at Rotten Tomatoes data, so it's likely that we're not using the right test. Because some movies are rated higher by critics, while the mean difference tells us that the most are rated lower by critics, by using the vanilla mean, we're not seeing the actual differences, but rather the trend of differences. That is, the critics tend to rate movies lower than the plebes, but they also might rate some kinds of movies, e.g. documentaries/films about how great films are (cough, Hugo, cough), much higher, so we should have been looking at (guessing here) pairwise differences, so for each movies, what's the difference between the critic and pleb ratings, or something like that</p>"
   ]
  },
  {
   "cell_type": "code",
   "execution_count": 68,
   "metadata": {
    "collapsed": false
   },
   "outputs": [
    {
     "data": {
      "text/plain": [
       "[<matplotlib.lines.Line2D at 0x97328d0>]"
      ]
     },
     "execution_count": 68,
     "metadata": {},
     "output_type": "execute_result"
    },
    {
     "data": {
      "image/png": "[encoded data removed]",
      "text/plain": [
       "<matplotlib.figure.Figure at 0x96d4c10>"
      ]
     },
     "metadata": {},
     "output_type": "display_data"
    }
   ],
   "source": [
    "from scipy import linspace\n",
    "from scipy.stats import binom\n",
    "outcomes = linspace(0,1000,1001)\n",
    "dist = binom.cdf(outcomes, 1000, RT_p_value)\n",
    "plt.plot(outcomes, dist)"
   ]
  },
  {
   "cell_type": "code",
   "execution_count": 69,
   "metadata": {
    "collapsed": true
   },
   "outputs": [],
   "source": [
    "max_critic = max(fandango_df[\"RottenTomatoes\"])\n",
    "max_user = max(fandango_df[\"RottenTomatoes_User\"])"
   ]
  },
  {
   "cell_type": "code",
   "execution_count": 70,
   "metadata": {
    "collapsed": false
   },
   "outputs": [
    {
     "name": "stdout",
     "output_type": "stream",
     "text": [
      "-0.07104634217429329\n"
     ]
    }
   ],
   "source": [
    "critic_ratio = fandango_df[\"RottenTomatoes\"]/max_critic\n",
    "user_ratio = fandango_df[\"RottenTomatoes_User\"]/max_user\n",
    "mean_critic_ratio = np.mean(critic_ratio)\n",
    "mean_user_ratio = np.mean(user_ratio)\n",
    "mean_ratio_diff = mean_critic_ratio-mean_user_ratio\n",
    "print(mean_ratio_diff)"
   ]
  },
  {
   "cell_type": "code",
   "execution_count": 74,
   "metadata": {
    "collapsed": false
   },
   "outputs": [
    {
     "name": "stdout",
     "output_type": "stream",
     "text": [
      "0.015015015015\n"
     ]
    },
    {
     "data": {
      "text/plain": [
       "(array([   3.,    4.,   35.,   89.,  206.,  254.,  220.,  135.,   39.,   15.]),\n",
       " array([-0.11987457, -0.09861277, -0.07735096, -0.05608916, -0.03482735,\n",
       "        -0.01356555,  0.00769625,  0.02895806,  0.05021986,  0.07148166,\n",
       "         0.09274347]),\n",
       " <a list of 10 Patch objects>)"
      ]
     },
     "execution_count": 74,
     "metadata": {},
     "output_type": "execute_result"
    },
    {
     "data": {
      "image/png": "[encoded data removed]",
      "text/plain": [
       "<matplotlib.figure.Figure at 0x988d8f0>"
      ]
     },
     "metadata": {},
     "output_type": "display_data"
    }
   ],
   "source": [
    "\n",
    "#create big list of all values in both conditions\n",
    "all_values = critic_ratio.append(user_ratio)\n",
    "def sampling_permutations(array, k_permutations):\n",
    "    mean_differences = []\n",
    "    #create k series of values randomly selected from all_values\n",
    "    for i in range(0,k_permutations):\n",
    "        group_a = []\n",
    "        group_b = []\n",
    "        for i in array:\n",
    "            #use random.rand to produce # between 0 and 1 \n",
    "            if np.random.rand() >=.5:\n",
    "                group_a.append(i)\n",
    "            else:\n",
    "                group_b.append(i)\n",
    "        iteration_mean_diff = np.mean(group_b)-np.mean(group_a)\n",
    "        mean_differences.append(iteration_mean_diff)\n",
    "    return mean_differences\n",
    "ratio_mean_diffs = sampling_permutations(all_values, 1000)\n",
    "\n",
    "ratio_sampling_dist = create_sampling_distribution(ratio_mean_diffs)\n",
    "\n",
    "ratio_p_value = greater_than_observation(ratio_sampling_dist, mean_ratio_diff)\n",
    "print(ratio_p_value)\n",
    "plt.hist(ratio_mean_diffs)"
   ]
  },
  {
   "cell_type": "code",
   "execution_count": 72,
   "metadata": {
    "collapsed": false
   },
   "outputs": [
    {
     "data": {
      "image/png": "[encoded data removed]",
      "text/plain": [
       "<matplotlib.figure.Figure at 0x96d4d30>"
      ]
     },
     "metadata": {},
     "output_type": "display_data"
    },
    {
     "data": {
      "image/png": "[encoded data removed]",
      "text/plain": [
       "<matplotlib.figure.Figure at 0x9855e10>"
      ]
     },
     "metadata": {},
     "output_type": "display_data"
    }
   ],
   "source": [
    "import seaborn as sns\n",
    "plt.scatter(critic_ratio, user_ratio)\n",
    "plt.show()\n",
    "plt.scatter(RT_values, RT_user_values)\n",
    "plt.show()"
   ]
  },
  {
   "cell_type": "markdown",
   "metadata": {},
   "source": [
    "<h1>Summary of what got done here</h1>\n",
    "<p>With two groups, $x_a$ and $x_b$, each with a mean, $\\bar{x}_a$ and $\\bar{x}_b$, respectively:</p>\n",
    "<p>If we take the difference $\\bar{x}_b-\\bar{x}_a$, we then need to figure out the probability we'd see an effect like that by just randomly sampling stuff</p>\n",
    "<p>So, we can think of <em>permutations</em> of our sample population, which is just a big bucket of all of the observations from the two conditions. If we took that same group of observations and randomly pulled $n$ values out for each group, what is the probability that the mean difference of each of those permutations is greater than the mean difference of our trials</p>\n",
    "<p>So, we get a mean difference for our testing conditions, and if we do, say, 1000 permutations, the p-value is the ratio of permutations that resulted in a greater mean difference than our testing conditions to 1000</p>\n"
   ]
  },
  {
   "cell_type": "code",
   "execution_count": null,
   "metadata": {
    "collapsed": true
   },
   "outputs": [],
   "source": []
  }
 ],
 "metadata": {
  "kernelspec": {
   "display_name": "Python 3",
   "language": "python",
   "name": "python3"
  },
  "language_info": {
   "codemirror_mode": {
    "name": "ipython",
    "version": 3
   },
   "file_extension": ".py",
   "mimetype": "text/x-python",
   "name": "python",
   "nbconvert_exporter": "python",
   "pygments_lexer": "ipython3",
   "version": "3.6.0"
  }
 },
 "nbformat": 4,
 "nbformat_minor": 0
}
