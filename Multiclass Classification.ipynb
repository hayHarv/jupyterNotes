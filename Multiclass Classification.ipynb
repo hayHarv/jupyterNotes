{
 "cells": [
  {
   "cell_type": "code",
   "execution_count": 1,
   "metadata": {
    "collapsed": false
   },
   "outputs": [
    {
     "name": "stdout",
     "output_type": "stream",
     "text": [
      "(392, 9)\n",
      "[1 3 2]\n"
     ]
    },
    {
     "name": "stderr",
     "output_type": "stream",
     "text": [
      "C:\\Users\\v-haharv\\AppData\\Local\\Continuum\\Anaconda3\\lib\\site-packages\\ipykernel\\__main__.py:13: SettingWithCopyWarning: \n",
      "A value is trying to be set on a copy of a slice from a DataFrame.\n",
      "Try using .loc[row_indexer,col_indexer] = value instead\n",
      "\n",
      "See the caveats in the documentation: http://pandas.pydata.org/pandas-docs/stable/indexing.html#indexing-view-versus-copy\n"
     ]
    },
    {
     "data": {
      "text/html": [
       "<div>\n",
       "<table border=\"1\" class=\"dataframe\">\n",
       "  <thead>\n",
       "    <tr style=\"text-align: right;\">\n",
       "      <th></th>\n",
       "      <th>mpg</th>\n",
       "      <th>cylinders</th>\n",
       "      <th>displacement</th>\n",
       "      <th>horsepower</th>\n",
       "      <th>weight</th>\n",
       "      <th>acceleration</th>\n",
       "      <th>model year</th>\n",
       "      <th>origin</th>\n",
       "      <th>car name</th>\n",
       "    </tr>\n",
       "  </thead>\n",
       "  <tbody>\n",
       "    <tr>\n",
       "      <th>0</th>\n",
       "      <td>18.0</td>\n",
       "      <td>8</td>\n",
       "      <td>307.0</td>\n",
       "      <td>130.0</td>\n",
       "      <td>3504.0</td>\n",
       "      <td>12.0</td>\n",
       "      <td>70</td>\n",
       "      <td>1</td>\n",
       "      <td>chevrolet chevelle malibu</td>\n",
       "    </tr>\n",
       "    <tr>\n",
       "      <th>1</th>\n",
       "      <td>15.0</td>\n",
       "      <td>8</td>\n",
       "      <td>350.0</td>\n",
       "      <td>165.0</td>\n",
       "      <td>3693.0</td>\n",
       "      <td>11.5</td>\n",
       "      <td>70</td>\n",
       "      <td>1</td>\n",
       "      <td>buick skylark 320</td>\n",
       "    </tr>\n",
       "    <tr>\n",
       "      <th>2</th>\n",
       "      <td>18.0</td>\n",
       "      <td>8</td>\n",
       "      <td>318.0</td>\n",
       "      <td>150.0</td>\n",
       "      <td>3436.0</td>\n",
       "      <td>11.0</td>\n",
       "      <td>70</td>\n",
       "      <td>1</td>\n",
       "      <td>plymouth satellite</td>\n",
       "    </tr>\n",
       "    <tr>\n",
       "      <th>3</th>\n",
       "      <td>16.0</td>\n",
       "      <td>8</td>\n",
       "      <td>304.0</td>\n",
       "      <td>150.0</td>\n",
       "      <td>3433.0</td>\n",
       "      <td>12.0</td>\n",
       "      <td>70</td>\n",
       "      <td>1</td>\n",
       "      <td>amc rebel sst</td>\n",
       "    </tr>\n",
       "    <tr>\n",
       "      <th>4</th>\n",
       "      <td>17.0</td>\n",
       "      <td>8</td>\n",
       "      <td>302.0</td>\n",
       "      <td>140.0</td>\n",
       "      <td>3449.0</td>\n",
       "      <td>10.5</td>\n",
       "      <td>70</td>\n",
       "      <td>1</td>\n",
       "      <td>ford torino</td>\n",
       "    </tr>\n",
       "  </tbody>\n",
       "</table>\n",
       "</div>"
      ],
      "text/plain": [
       "    mpg  cylinders  displacement  horsepower  weight  acceleration  \\\n",
       "0  18.0          8         307.0       130.0  3504.0          12.0   \n",
       "1  15.0          8         350.0       165.0  3693.0          11.5   \n",
       "2  18.0          8         318.0       150.0  3436.0          11.0   \n",
       "3  16.0          8         304.0       150.0  3433.0          12.0   \n",
       "4  17.0          8         302.0       140.0  3449.0          10.5   \n",
       "\n",
       "   model year  origin                   car name  \n",
       "0          70       1  chevrolet chevelle malibu  \n",
       "1          70       1          buick skylark 320  \n",
       "2          70       1         plymouth satellite  \n",
       "3          70       1              amc rebel sst  \n",
       "4          70       1                ford torino  "
      ]
     },
     "execution_count": 1,
     "metadata": {},
     "output_type": "execute_result"
    }
   ],
   "source": [
    "%matplotlib inline\n",
    "import pandas as pd\n",
    "import matplotlib.pyplot as plt\n",
    "import seaborn as sns\n",
    "import numpy as np\n",
    "import os\n",
    "\n",
    "names = ['mpg','cylinders','displacement','horsepower','weight','acceleration','model year','origin','car name']\n",
    "data_path = \"Data\\\\cars\\\\auto-mpg.data.txt\"\n",
    "cars = pd.read_table(os.path.relpath(data_path),delim_whitespace=True, names=names)\n",
    "cleaned_cars = cars[cars['horsepower']!='?']\n",
    "float_hp = cleaned_cars['horsepower'].astype(float)\n",
    "cleaned_cars['horsepower'] = float_hp\n",
    "\n",
    "print(cleaned_cars.shape)\n",
    "cleaned_cars.head()\n",
    "\n",
    "# See regions of origin\n",
    "unique_regions = cars.origin.unique()\n",
    "print(unique_regions)\n",
    "cleaned_cars.head()"
   ]
  },
  {
   "cell_type": "markdown",
   "metadata": {},
   "source": [
    "<h3>Dummy Variables</h3>\n",
    "<p>When a dataset has categorical data on the row level that includes more than two options, e.g. animal, mineral, vegetable, in order to perform classification using the logit function, we'll need to create dummy variables. This just means that rather than one column with three possible values, there will be three columns with only 0 or 1 as values.</p>\n",
    "<p>It's worthwhile to double check whether the variables are mutually exclusive; if a category is pivoted to dummy variables, they usually shouldn't add up to more than 1 on the row level.</p>\n",
    "\n",
    "<p>In pandas, we can use the ````pd.get_dummies(df[\"category\"], prefix = \"category\")```` then we can use the ````pd.concat()```` function to add it onto the original dataframe</p>\n"
   ]
  },
  {
   "cell_type": "code",
   "execution_count": 3,
   "metadata": {
    "collapsed": false
   },
   "outputs": [
    {
     "data": {
      "text/html": [
       "<div>\n",
       "<table border=\"1\" class=\"dataframe\">\n",
       "  <thead>\n",
       "    <tr style=\"text-align: right;\">\n",
       "      <th></th>\n",
       "      <th>mpg</th>\n",
       "      <th>displacement</th>\n",
       "      <th>horsepower</th>\n",
       "      <th>weight</th>\n",
       "      <th>acceleration</th>\n",
       "      <th>origin</th>\n",
       "      <th>car name</th>\n",
       "      <th>cyl_3</th>\n",
       "      <th>cyl_4</th>\n",
       "      <th>cyl_5</th>\n",
       "      <th>...</th>\n",
       "      <th>year_74</th>\n",
       "      <th>year_75</th>\n",
       "      <th>year_76</th>\n",
       "      <th>year_77</th>\n",
       "      <th>year_78</th>\n",
       "      <th>year_79</th>\n",
       "      <th>year_80</th>\n",
       "      <th>year_81</th>\n",
       "      <th>year_82</th>\n",
       "      <th>original_row</th>\n",
       "    </tr>\n",
       "  </thead>\n",
       "  <tbody>\n",
       "    <tr>\n",
       "      <th>0</th>\n",
       "      <td>18.0</td>\n",
       "      <td>307.0</td>\n",
       "      <td>130.0</td>\n",
       "      <td>3504.0</td>\n",
       "      <td>12.0</td>\n",
       "      <td>1</td>\n",
       "      <td>chevrolet chevelle malibu</td>\n",
       "      <td>0</td>\n",
       "      <td>0</td>\n",
       "      <td>0</td>\n",
       "      <td>...</td>\n",
       "      <td>0</td>\n",
       "      <td>0</td>\n",
       "      <td>0</td>\n",
       "      <td>0</td>\n",
       "      <td>0</td>\n",
       "      <td>0</td>\n",
       "      <td>0</td>\n",
       "      <td>0</td>\n",
       "      <td>0</td>\n",
       "      <td>0</td>\n",
       "    </tr>\n",
       "    <tr>\n",
       "      <th>1</th>\n",
       "      <td>15.0</td>\n",
       "      <td>350.0</td>\n",
       "      <td>165.0</td>\n",
       "      <td>3693.0</td>\n",
       "      <td>11.5</td>\n",
       "      <td>1</td>\n",
       "      <td>buick skylark 320</td>\n",
       "      <td>0</td>\n",
       "      <td>0</td>\n",
       "      <td>0</td>\n",
       "      <td>...</td>\n",
       "      <td>0</td>\n",
       "      <td>0</td>\n",
       "      <td>0</td>\n",
       "      <td>0</td>\n",
       "      <td>0</td>\n",
       "      <td>0</td>\n",
       "      <td>0</td>\n",
       "      <td>0</td>\n",
       "      <td>0</td>\n",
       "      <td>1</td>\n",
       "    </tr>\n",
       "    <tr>\n",
       "      <th>2</th>\n",
       "      <td>18.0</td>\n",
       "      <td>318.0</td>\n",
       "      <td>150.0</td>\n",
       "      <td>3436.0</td>\n",
       "      <td>11.0</td>\n",
       "      <td>1</td>\n",
       "      <td>plymouth satellite</td>\n",
       "      <td>0</td>\n",
       "      <td>0</td>\n",
       "      <td>0</td>\n",
       "      <td>...</td>\n",
       "      <td>0</td>\n",
       "      <td>0</td>\n",
       "      <td>0</td>\n",
       "      <td>0</td>\n",
       "      <td>0</td>\n",
       "      <td>0</td>\n",
       "      <td>0</td>\n",
       "      <td>0</td>\n",
       "      <td>0</td>\n",
       "      <td>2</td>\n",
       "    </tr>\n",
       "    <tr>\n",
       "      <th>3</th>\n",
       "      <td>16.0</td>\n",
       "      <td>304.0</td>\n",
       "      <td>150.0</td>\n",
       "      <td>3433.0</td>\n",
       "      <td>12.0</td>\n",
       "      <td>1</td>\n",
       "      <td>amc rebel sst</td>\n",
       "      <td>0</td>\n",
       "      <td>0</td>\n",
       "      <td>0</td>\n",
       "      <td>...</td>\n",
       "      <td>0</td>\n",
       "      <td>0</td>\n",
       "      <td>0</td>\n",
       "      <td>0</td>\n",
       "      <td>0</td>\n",
       "      <td>0</td>\n",
       "      <td>0</td>\n",
       "      <td>0</td>\n",
       "      <td>0</td>\n",
       "      <td>3</td>\n",
       "    </tr>\n",
       "    <tr>\n",
       "      <th>4</th>\n",
       "      <td>17.0</td>\n",
       "      <td>302.0</td>\n",
       "      <td>140.0</td>\n",
       "      <td>3449.0</td>\n",
       "      <td>10.5</td>\n",
       "      <td>1</td>\n",
       "      <td>ford torino</td>\n",
       "      <td>0</td>\n",
       "      <td>0</td>\n",
       "      <td>0</td>\n",
       "      <td>...</td>\n",
       "      <td>0</td>\n",
       "      <td>0</td>\n",
       "      <td>0</td>\n",
       "      <td>0</td>\n",
       "      <td>0</td>\n",
       "      <td>0</td>\n",
       "      <td>0</td>\n",
       "      <td>0</td>\n",
       "      <td>0</td>\n",
       "      <td>4</td>\n",
       "    </tr>\n",
       "  </tbody>\n",
       "</table>\n",
       "<p>5 rows × 26 columns</p>\n",
       "</div>"
      ],
      "text/plain": [
       "    mpg  displacement  horsepower  weight  acceleration  origin  \\\n",
       "0  18.0         307.0       130.0  3504.0          12.0       1   \n",
       "1  15.0         350.0       165.0  3693.0          11.5       1   \n",
       "2  18.0         318.0       150.0  3436.0          11.0       1   \n",
       "3  16.0         304.0       150.0  3433.0          12.0       1   \n",
       "4  17.0         302.0       140.0  3449.0          10.5       1   \n",
       "\n",
       "                    car name  cyl_3  cyl_4  cyl_5      ...       year_74  \\\n",
       "0  chevrolet chevelle malibu      0      0      0      ...             0   \n",
       "1          buick skylark 320      0      0      0      ...             0   \n",
       "2         plymouth satellite      0      0      0      ...             0   \n",
       "3              amc rebel sst      0      0      0      ...             0   \n",
       "4                ford torino      0      0      0      ...             0   \n",
       "\n",
       "   year_75  year_76  year_77  year_78  year_79  year_80  year_81  year_82  \\\n",
       "0        0        0        0        0        0        0        0        0   \n",
       "1        0        0        0        0        0        0        0        0   \n",
       "2        0        0        0        0        0        0        0        0   \n",
       "3        0        0        0        0        0        0        0        0   \n",
       "4        0        0        0        0        0        0        0        0   \n",
       "\n",
       "   original_row  \n",
       "0             0  \n",
       "1             1  \n",
       "2             2  \n",
       "3             3  \n",
       "4             4  \n",
       "\n",
       "[5 rows x 26 columns]"
      ]
     },
     "execution_count": 3,
     "metadata": {},
     "output_type": "execute_result"
    }
   ],
   "source": [
    "cylinders_dummy = pd.get_dummies(cleaned_cars[\"cylinders\"], prefix=\"cyl\")\n",
    "year_dummy = pd.get_dummies(cleaned_cars[\"model year\"], prefix = \"year\")\n",
    "cleaned_cars = pd.concat([cleaned_cars, cylinders_dummy, year_dummy], axis=1)\n",
    "\n",
    "cleaned_cars.drop(['cylinders','model year'], axis=1, inplace=True)\n",
    "\n",
    "cleaned_cars[\"original_row\"] = cleaned_cars.index\n",
    "\n",
    "cleaned_cars.head()\n",
    "new_index = range(cleaned_cars.shape[0])\n",
    "cleaned_cars[\"new_index\"] = new_index\n",
    "\n",
    "cleaned_cars.set_index(\"new_index\", inplace=True)\n",
    "cleaned_cars.index.name = None\n",
    "cleaned_cars.head()\n"
   ]
  },
  {
   "cell_type": "markdown",
   "metadata": {},
   "source": [
    "<H3>Multiclass Classification</H3>\n",
    "<p>Multiclass classification is intended to predict the category of an observation where there are more than two possibilities. If there are two possibilities, we can just use binary classification, if there is only one, then we can just name the thing and be done (that was a joke).</p>\n",
    "\n",
    "<p>There are a number of approaches to multiclass classification, and for now, we can use the <a href=\"https://en.wikipedia.org/wiki/Multiclass_classification#One-vs.-rest\"> one-versus-all (or one-versus-rest) method</a>, which treats one of the classification categories as the Positive case and the rest as False cases</p>\n",
    "\n",
    "\n"
   ]
  },
  {
   "cell_type": "code",
   "execution_count": 4,
   "metadata": {
    "collapsed": false
   },
   "outputs": [
    {
     "name": "stdout",
     "output_type": "stream",
     "text": [
      "[ 34 158 296 374 217  57 307  96 308 291 323 180 329  23 242 359 130 376\n",
      " 263   8 139  14  30 204 131 319 270 239 234 266  82  73 347  24 142 271\n",
      "  16  27  90 189 268 154  12 371 198 126 298 317 193 178 361 252 103 197\n",
      " 195 349  92 235 144  11 211 264  52 145 240   9  88 367  94 232 166 143\n",
      " 343 216 320 207 383  85 328 175 350 236  68  72 112 360  59 292  31 355\n",
      "  74 297  60 137 300  25 111 192 171 243 276  22  61  35 201 199 381 327\n",
      " 287 357 389 226 384 275 124 125 153   4 161 278 386 206  55 341  41  46\n",
      " 375 316 282 309 138  39 212   2 260 285 259 390 221 230 373 106   7 215\n",
      " 348  45 159 190 170 261 105 241 257  79 179 237  98 238 132  28 104 322\n",
      " 256 326 169 294  76 188 379  62 123 177  51 164  70 148  69 248  97 310\n",
      "  75 265 184 306 151 318   3 342 380  17 120 353 352  18  20 245 225 284\n",
      " 330  36 358 173 331 121 382 301 333  19  37 244  47 387   0 336 117 258\n",
      " 340 101 155 315  44  43  29 253  64  21  32 267 224 210 255 133 346  63\n",
      " 186 146  95 160 280 281  58  54  13 304 109 370  48 163 205  80  33 312\n",
      " 337 172  40 324  67 119 246 208 223 149 220 366   5 134 233 122 279  83\n",
      " 165 129 365  77 183 372 185 377 293 200 272 118 187 229  15 288  93 269\n",
      " 356 344 332 167  65 156 127 136 311 213 168 363 299 114 113 115  42 222\n",
      " 302  81 277 107 354 147  10 254 334 338 313 219 141 247 176  78 157 314\n",
      " 102 378 391 321 203 135 152 181 227 214 116 250 385 209  49 290  91  38\n",
      " 182 364 108 295 110 100  66  71  87 218 194 249 388 162 150 303   6 196\n",
      "  26 174 273  50 345 305 351 202  99 286 231 191 262  86 339 362  56 274\n",
      " 251 369 325 128  53 283   1 140  84 335 228 289 368  89]\n"
     ]
    }
   ],
   "source": [
    "# Note...it took for-fucking-ever to do this because the index was somehow out of range and I had to set a new one\n",
    "# randomize indices\n",
    "shuffled_rows = np.random.permutation(cleaned_cars.index)\n",
    "\n",
    "print(shuffled_rows)\n",
    "# randomize data\n",
    "shuffled_cars = cleaned_cars.iloc[shuffled_rows]\n",
    "\n",
    "\n",
    "# 70/30 train/test\n",
    "train_rows = int(shuffled_cars.shape[0]* .7)\n",
    "train = shuffled_cars.iloc[:train_rows]\n",
    "test = shuffled_cars.iloc[train_rows :]\n",
    "\n"
   ]
  },
  {
   "cell_type": "markdown",
   "metadata": {},
   "source": [
    "<H3> Dewing it 4 reel</H3>\n",
    "<p>Because we're using the one-vs-rest approach, and there are 3 origins for the vehicles, we'll need to train 3 linear regression models. Generally, a multiclass classification problem with k-classes will need k-trained models.</p>\n",
    "\n",
    "\n",
    "\n"
   ]
  },
  {
   "cell_type": "code",
   "execution_count": 5,
   "metadata": {
    "collapsed": false
   },
   "outputs": [],
   "source": [
    "from sklearn.linear_model import LogisticRegression\n",
    "\n",
    "unique_origins = train.origin.unique()\n",
    "\n",
    "features = [i for i in cleaned_cars.columns.values if i.startswith(\"year\") or i.startswith(\"cyl\")]\n",
    "\n",
    "    \n",
    "# create dictionary to hold results of models\n",
    "models = {}\n",
    "\n",
    "for i in unique_origins:\n",
    "    model = LogisticRegression()\n",
    "    \n",
    "    X_train = train[features]\n",
    "    y_train = train[\"origin\"] == i\n",
    "    \n",
    "    model.fit(X_train, y_train)\n",
    "    models[i] = model\n",
    "\n"
   ]
  },
  {
   "cell_type": "code",
   "execution_count": 6,
   "metadata": {
    "collapsed": false
   },
   "outputs": [
    {
     "data": {
      "text/html": [
       "<div>\n",
       "<table border=\"1\" class=\"dataframe\">\n",
       "  <thead>\n",
       "    <tr style=\"text-align: right;\">\n",
       "      <th></th>\n",
       "      <th>1</th>\n",
       "      <th>3</th>\n",
       "      <th>2</th>\n",
       "    </tr>\n",
       "  </thead>\n",
       "  <tbody>\n",
       "    <tr>\n",
       "      <th>0</th>\n",
       "      <td>0.294330</td>\n",
       "      <td>0.180192</td>\n",
       "      <td>0.534180</td>\n",
       "    </tr>\n",
       "    <tr>\n",
       "      <th>1</th>\n",
       "      <td>0.520696</td>\n",
       "      <td>0.399043</td>\n",
       "      <td>0.097325</td>\n",
       "    </tr>\n",
       "    <tr>\n",
       "      <th>2</th>\n",
       "      <td>0.959182</td>\n",
       "      <td>0.017883</td>\n",
       "      <td>0.046378</td>\n",
       "    </tr>\n",
       "    <tr>\n",
       "      <th>3</th>\n",
       "      <td>0.520696</td>\n",
       "      <td>0.399043</td>\n",
       "      <td>0.097325</td>\n",
       "    </tr>\n",
       "    <tr>\n",
       "      <th>4</th>\n",
       "      <td>0.474055</td>\n",
       "      <td>0.248703</td>\n",
       "      <td>0.266679</td>\n",
       "    </tr>\n",
       "  </tbody>\n",
       "</table>\n",
       "</div>"
      ],
      "text/plain": [
       "          1         3         2\n",
       "0  0.294330  0.180192  0.534180\n",
       "1  0.520696  0.399043  0.097325\n",
       "2  0.959182  0.017883  0.046378\n",
       "3  0.520696  0.399043  0.097325\n",
       "4  0.474055  0.248703  0.266679"
      ]
     },
     "execution_count": 6,
     "metadata": {},
     "output_type": "execute_result"
    }
   ],
   "source": [
    "# Test that shit\n",
    "\n",
    "# Create df for predicted probabilities\n",
    "testing_probs = pd.DataFrame(columns=unique_origins)\n",
    "\n",
    "\n",
    "for i in unique_origins:\n",
    "    # get features from test df\n",
    "    X_test = test[features]\n",
    "    \n",
    "    # loop through models, predict each origin, append True col to testing_probs\n",
    "    testing_probs[i] = models[i].predict_proba(X_test)[:,1]\n",
    "\n",
    "testing_probs.head()"
   ]
  },
  {
   "cell_type": "code",
   "execution_count": 7,
   "metadata": {
    "collapsed": false
   },
   "outputs": [
    {
     "name": "stdout",
     "output_type": "stream",
     "text": [
      "1.8095238095238095\n",
      "{1: {'sensitivity': 0.8289473684210527, 'true_pos': 63, 'false_pos': 13}, 3: {'sensitivity': 0.3, 'true_pos': 6, 'false_pos': 14}, 2: {'sensitivity': 0.3181818181818182, 'true_pos': 7, 'false_pos': 15}}\n"
     ]
    },
    {
     "name": "stderr",
     "output_type": "stream",
     "text": [
      "C:\\Users\\hshar\\Anaconda3\\lib\\site-packages\\ipykernel\\__main__.py:8: SettingWithCopyWarning: \n",
      "A value is trying to be set on a copy of a slice from a DataFrame.\n",
      "Try using .loc[row_indexer,col_indexer] = value instead\n",
      "\n",
      "See the caveats in the documentation: http://pandas.pydata.org/pandas-docs/stable/indexing.html#indexing-view-versus-copy\n",
      "C:\\Users\\hshar\\Anaconda3\\lib\\site-packages\\ipykernel\\__main__.py:10: SettingWithCopyWarning: \n",
      "A value is trying to be set on a copy of a slice from a DataFrame.\n",
      "Try using .loc[row_indexer,col_indexer] = value instead\n",
      "\n",
      "See the caveats in the documentation: http://pandas.pydata.org/pandas-docs/stable/indexing.html#indexing-view-versus-copy\n"
     ]
    }
   ],
   "source": [
    "# Now to generate predicted labels\n",
    "\n",
    "# use df.idxmax() to return series w/max value from one of several columns\n",
    "predicted_origins = testing_probs.idxmax(axis=1)\n",
    "\n",
    "# Append to test dataframe\n",
    "\n",
    "test['predictions'] = list(predicted_origins)\n",
    "\n",
    "test[\"Comparison\"] = test['predictions'] ==test.origin\n",
    "\n",
    "origin_accuracy = test[test['Comparison']==True].shape[0]/test[test['Comparison']==False].shape[0]\n",
    "print(origin_accuracy)\n",
    "\n",
    "category_performance = {}\n",
    "\n",
    "#Double check all of this bullshit\n",
    "for i in unique_origins:\n",
    "    origins = test[test['origin'] == i]\n",
    "    \n",
    "    true_positives = origins[origins.Comparison == True].shape[0]\n",
    "    false_positives = origins[origins.Comparison == False].shape[0]\n",
    "    \n",
    "    sensitivity = true_positives/(true_positives+false_positives)\n",
    "    d = dict(sensitivity=sensitivity, true_pos = true_positives, false_pos = false_positives)\n",
    "    category_performance[i] = d\n",
    "    \n",
    "print(category_performance)\n"
   ]
  },
  {
   "cell_type": "code",
   "execution_count": 8,
   "metadata": {
    "collapsed": false
   },
   "outputs": [
    {
     "data": {
      "text/plain": [
       "array([[<matplotlib.axes._subplots.AxesSubplot object at 0x000002555CC04898>]], dtype=object)"
      ]
     },
     "execution_count": 8,
     "metadata": {},
     "output_type": "execute_result"
    },
    {
     "data": {
      "image/png": "[encoded data removed]",
      "text/plain": [
       "<matplotlib.figure.Figure at 0x2555caed978>"
      ]
     },
     "metadata": {},
     "output_type": "display_data"
    },
    {
     "data": {
      "image/png": "[encoded data removed]",
      "text/plain": [
       "<matplotlib.figure.Figure at 0x2555caed668>"
      ]
     },
     "metadata": {},
     "output_type": "display_data"
    }
   ],
   "source": [
    "test.hist(\"origin\", xlabelsize= 1, bins=3)\n",
    "test.hist(\"predictions\",xlabelsize=1, bins=3)"
   ]
  },
  {
   "cell_type": "code",
   "execution_count": null,
   "metadata": {
    "collapsed": true
   },
   "outputs": [],
   "source": []
  }
 ],
 "metadata": {
  "kernelspec": {
   "display_name": "Python 3",
   "language": "python",
   "name": "python3"
  },
  "language_info": {
   "codemirror_mode": {
    "name": "ipython",
    "version": 3
   },
   "file_extension": ".py",
   "mimetype": "text/x-python",
   "name": "python",
   "nbconvert_exporter": "python",
   "pygments_lexer": "ipython3",
   "version": "3.6.0"
  }
 },
 "nbformat": 4,
 "nbformat_minor": 2
}
