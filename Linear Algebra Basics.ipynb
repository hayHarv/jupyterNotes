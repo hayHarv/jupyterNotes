{
 "cells": [
  {
   "cell_type": "markdown",
   "metadata": {},
   "source": [
    "<h1>Linear Algebra and Systems of Equations</h1>\n",
    "<h3>The Basics</h3>\n",
    "<p>Below, we have the system of equations:</p>\n",
    "<p>$2x-y=25$</p>\n",
    "<p>$3x-2y=40$</p>\n",
    "<p>One approach to solving these is the <em>Gaussian Method</em> which states:</p>\n",
    "<p>If a linear system is changed to another by one of the following operations:</p>\n",
    "<ol><li>an equation is swapped with another (G1)</li>\n",
    "<li>an equation has both sides multiplied by a nonzero constant (G2)</li>\n",
    "<li>an equation is replaced by the sum of itself and a multiple of another (G3)</li></ol>\n",
    "<p>Then the equations have the same set of solutions</p>\n"
   ]
  },
  {
   "cell_type": "code",
   "execution_count": 99,
   "metadata": {
    "collapsed": false
   },
   "outputs": [
    {
     "name": "stdout",
     "output_type": "stream",
     "text": [
      "[[  1.   0.  10.]\n",
      " [  0.   1.   5.]]\n"
     ]
    }
   ],
   "source": [
    "import numpy as np\n",
    "#represent 2x+y=25 and 3x+2y=40 as an array \n",
    "matrix = np.asarray([\n",
    "    [2, 1, 25],\n",
    "    [3, 2, 40]  \n",
    "], dtype=np.float32)\n",
    "#1 multiply first equation by a constant (G2)\n",
    "matrix[0] *= 2\n",
    "#output-->[4,2,50]\n",
    "\n",
    "#2 subtract second from first (G3) equation 1 + (-1*(equation 2))\n",
    "matrix[0] -= matrix[1]\n",
    "#output-->[1,0,10]; solution for x is 10\n",
    "#matrix is now [[1,0,10],[3,2,40]]\n",
    "\n",
    "#3 subtract 3* first equation from second equation (G3)\n",
    "matrix[1] -= 3*matrix[0]\n",
    "# output matrix = [[1,0,10], [0,2,10]]\n",
    "\n",
    "#multiply both sides of second equation by 1/2 (G2)\n",
    "matrix[1] /= 2\n",
    "#output matrix = [[1,0,10],[0,1,5]]\n",
    "print(matrix)\n",
    "\n",
    "\n",
    "\n"
   ]
  },
  {
   "cell_type": "code",
   "execution_count": 100,
   "metadata": {
    "collapsed": false
   },
   "outputs": [
    {
     "name": "stdout",
     "output_type": "stream",
     "text": [
      "[[ 1.          0.          0.          3.66666651]\n",
      " [ 0.          1.          0.          1.66666675]\n",
      " [ 0.          0.          1.          2.        ]]\n"
     ]
    }
   ],
   "source": [
    "#For 3-dimensional equations (x,y,z) the process is the same, but for three row matrices\n",
    "matrix = np.asarray([\n",
    "    [1, 2, 0, 7],\n",
    "    [0, 3, 3, 11],\n",
    "    [1, 2, 2, 11]\n",
    "], dtype=np.float32)\n",
    "matrix[2] -= matrix[0]\n",
    "matrix[2] /= 2\n",
    "matrix[1] /= 3\n",
    "matrix[1] -= matrix[2]\n",
    "matrix[0] -= (2*matrix[1])\n",
    "print(matrix)"
   ]
  },
  {
   "cell_type": "markdown",
   "metadata": {},
   "source": [
    "<h3>Echelon Form</h3>\n",
    "<p>A leading variable is the first variable with a nonzero coefficient in a row. Echelon form is what happens when the leading variable of each row is to the right of the leading variable in the previous row. Any rows consisting of all zeros should be at the bottom.</p>\n",
    "<p>Some Examples:</p>\n",
    "<p>First example</p>\n",
    "<p>$\\left[\\begin{array}{rrr|r}\n",
    "1 & 0 & 1 & 5 \\\\ \n",
    "0 & 5 & 7 & 10 \\\\\n",
    "0 & 0 & 1 & 4\n",
    "\\end{array}\\right]$</p>\n",
    "<p>Second example</p>\n",
    "<p>$\\left[\\begin{array}{rrr|r}\n",
    "1 & -1 & 1 & 5 \\\\ \n",
    "0 & 5 & 0 & -2 \\\\\n",
    "0 & 0 & 2 & -5 \\\\\n",
    "0 & 0 & 0 & 0\n",
    "\\end{array}\\right]$</p>\n",
    "<p>Getting things into echelon form makes systems of equations much easier to solve. This is where G1 (an equation can be swapped with another) can come in handy.</p>\n"
   ]
  },
  {
   "cell_type": "code",
   "execution_count": 101,
   "metadata": {
    "collapsed": false
   },
   "outputs": [
    {
     "name": "stdout",
     "output_type": "stream",
     "text": [
      "[[  1.   2.   2.  11.]\n",
      " [  0.   5.   5.   1.]\n",
      " [  0.   0.   1.  11.]\n",
      " [  0.   0.   0.   7.]]\n"
     ]
    }
   ],
   "source": [
    "matrix = np.asarray([\n",
    "    [0, 0, 0, 7],\n",
    "    [0, 0, 1, 11],\n",
    "    [1, 2, 2, 11],\n",
    "    [0, 5, 5, 1]\n",
    "], dtype=np.float32)\n",
    "\n",
    "# Swap the first and the third rows - first swap\n",
    "matrix[[0,2]] = matrix[[2,0]]\n",
    "# Swap second and fourth rows\n",
    "matrix[[1,3]] = matrix[[3,1]]\n",
    "# Swap third and fourth rows\n",
    "matrix[[2,3]] = matrix[[3,2]]\n",
    "print(matrix)"
   ]
  },
  {
   "cell_type": "markdown",
   "metadata": {},
   "source": [
    "<h2>Reduced Row Echelon Form</h2>\n",
    "<p>Generally, the way to solve systems of linear equations is to first try to get them into reduced row echelon form. We just covered echelon form. reduced row echelon form meets all the same conditions as echelon form, except every leading variable must equal 1, and it must be the only nonzero entry in its column.\n",
    "\n",
    "Here's an augmented matrix in reduced row echelon form. Note that coefficients and constants are treated separately, so constants don't have to follow the guidelines for reduced row echelon form:</p>\n",
    "<p>$\\left[\\begin{array}{rrr|r}\n",
    "1 & 0 & 0 & 0 \\\\ \n",
    "0 & 1 & 0 & 3 \\\\\n",
    "0 & 0 & 1 & 0\n",
    "\\end{array}\\right]$</p>\n",
    "<ol><li>Start on a new row</li>\n",
    "<li>Perform any needed swaps to move the leftmost available leading coefficient to the current row</li>\n",
    "<li>Divide the row by its leading coefficient to make the leading coefficient equal 1</li>\n",
    "<li>Subtract the row from all other rows (with an appropriate multiplier) to ensure that its leading variable is the only nonzero value in its column.</li>\n",
    "<li>Repeat until entire matrix is in reduced row-echelon form.</li>\n",
    "</ol>"
   ]
  },
  {
   "cell_type": "code",
   "execution_count": 102,
   "metadata": {
    "collapsed": false
   },
   "outputs": [
    {
     "name": "stdout",
     "output_type": "stream",
     "text": [
      "[[ 1.  0.  0.  3.]\n",
      " [ 0.  1.  0.  2.]\n",
      " [ 0.  0.  1.  1.]]\n"
     ]
    }
   ],
   "source": [
    "A = np.asarray([\n",
    "        [0, 2, 1, 5],\n",
    "        [1, 2, 1, 8],\n",
    "        [3, 0, 1, 10],\n",
    "        ], dtype=np.float32)\n",
    "A[[1,0]] =A[[0,1]]\n",
    "A[2] -= (3*A[0])\n",
    "A[1] /= 2\n",
    "A[0] -= (2*A[1])\n",
    "A[2] += (6*A[1])\n",
    "A[1] -= .5*A[2]\n",
    "print(A)"
   ]
  },
  {
   "cell_type": "markdown",
   "metadata": {},
   "source": [
    "<h2>Inconsistency</h2>\n",
    "<p>Not all systems of equations can be solved. In the cases where they can't, we call the system inconsistent. An inconsistant system will have two or more equations that conflict, making it impossible to find a solution. Here's an example:</p>\n",
    "<p>$\\left[\\begin{array}{rr|r}\n",
    "8 & 4 & 5 \\\\ \n",
    "4 & 2 & 5\n",
    "\\end{array}\\right]$</p>"
   ]
  },
  {
   "cell_type": "code",
   "execution_count": 103,
   "metadata": {
    "collapsed": false
   },
   "outputs": [
    {
     "name": "stdout",
     "output_type": "stream",
     "text": [
      "[[ 1.         0.         0.         3.4000001]\n",
      " [ 0.         1.         0.         6.       ]\n",
      " [ 0.         0.         1.         2.5999999]\n",
      " [ 0.         0.         1.         1.       ]]\n",
      "Matrix B is inconsistant because the column representing the z variable evaluates to both 2.599 and 1\n"
     ]
    }
   ],
   "source": [
    "B = np.asarray([\n",
    "    [5, -1, 3, 14],\n",
    "    [0, 1, 2, 8],\n",
    "    [0, -2, 5, 1],\n",
    "    [0, 0, 6, 6]\n",
    "], dtype=np.float32)\n",
    "\n",
    "B[0] /= 5\n",
    "B[0] -= (-1/5)*B[1]\n",
    "B[0] -= (1/6)*B[3]\n",
    "B[1] -= (2/6)*B[3]\n",
    "B[2] -= -2*B[1]\n",
    "B[2] /= 5\n",
    "B[3] /= 6\n",
    "print(B)\n",
    "print(\"Matrix B is inconsistant because the column representing the z variable evaluates to both 2.599 and 1\")"
   ]
  },
  {
   "cell_type": "markdown",
   "metadata": {},
   "source": [
    "<h2>Infinite Solultions</h2>\n",
    "<p>We've seen cases in which systems of equations have zero solutions, or one solution. There's one other case we need to worry about: sometimes, systems have infinite solutions. This ususally happens when we're unable to simplify an equation enough that each variable is alone in a row. In these cases, there are free variables, which do not lead any rows, and leading variables, which do. We express the values of the leading variables using the free variables.</p>\n",
    "<p>Here's an example:</p>\n",
    "<p>$\\left[\\begin{array}{rrr|r}\n",
    "1 & 1 & 0 & 0 \\\\ \n",
    "2 & -1 & 3 & 3\n",
    "\\end{array}\\right]$</p>\n",
    "<p>We can subtract 2 times the first row from the second to simplify:</p>\n",
    "<p>$\\left[\\begin{array}{rrr|r}\n",
    "1 & 1 & 0 & 0 \\\\ \n",
    "0 & -3 & 3 & 3\n",
    "\\end{array}\\right]$</p>\n",
    "<p>But because the z term in the first equation has a coefficient of 0 and it hasn't been eliminated from the second, we can't simplify any further</p>\n",
    "<p>x and y are the leading variables, and z is the free variable, because it doesn't lead any rows. Thus, we can express x and y in terms of z.</p>\n",
    "<p>For the second equation: $-3y + 3z = 3$</p>\n",
    "<p>So: $y=z-1$</p>\n",
    "<p>Substituting the value for $y$ into the first equation:</p>\n",
    "<p>$x+y=0$</p>\n",
    "<p>$x+(z-1)=0$</p>\n",
    "<p>$x=1-z$</p>\n",
    "<p>This system of equations has infinite solutions, because z could take on any value -- we don't have any way to simplify any more. Since we have chosen to express y and x in terms of z, z is called a parameter. Not all free variables have to be parameters -- you can choose which ones to use when expressing a leading variable.</p>"
   ]
  },
  {
   "cell_type": "code",
   "execution_count": 104,
   "metadata": {
    "collapsed": false
   },
   "outputs": [
    {
     "name": "stdout",
     "output_type": "stream",
     "text": [
      "[[   1.    2.    4.   10.]\n",
      " [   0.    0.    0.    0.]\n",
      " [   0.  -35.  -75. -190.]] Infinite Solutions\n",
      " \n",
      "[[ 1.          0.          0.          0.97435927]\n",
      " [-0.          1.          0.          1.43589735]\n",
      " [-0.         -0.          1.          1.58974349]]\n"
     ]
    }
   ],
   "source": [
    "A = np.asarray([\n",
    "        [2, 4, 8, 20],\n",
    "        [4, 8, 16, 40],\n",
    "        [20, 5, 5, 10]\n",
    "], dtype=np.float32)\n",
    "\n",
    "A[0] /= 2\n",
    "A[1] -= 4*A[0]\n",
    "A[2] -= A[0]*20\n",
    "# Can't simplify any further; A has infinite solutions\n",
    "#print(A)\n",
    "B = np.asarray([\n",
    "        [1, 1, 1, 4],\n",
    "        [3, -2, 5, 8],\n",
    "        [8, -4, 5, 10]\n",
    "        ], dtype=np.float32)\n",
    "B[1] -=B[0]*3\n",
    "B[2] -= B[0]*8\n",
    "B[1] /= -5\n",
    "B[0] -= B[1]\n",
    "B[2] -= -12*B[1]\n",
    "B[2] /= B[2][2]\n",
    "B[0] -= B[2]*B[0][2]\n",
    "B[1] -= B[2]*B[1][2]\n",
    "print(A, \"Infinite Solutions\")\n",
    "print(' ')\n",
    "print(B)"
   ]
  },
  {
   "cell_type": "markdown",
   "metadata": {},
   "source": [
    "<h2>Homogeneity</h2>\n",
    "<p>A linear equation is homogeneous if it has a constant of zero. Here's an example:\n",
    "\n",
    "$4x+2y−4z=0$\n",
    "These equations are special, because they can always be solved by setting the value of each variable to zero.\n",
    "\n",
    "A system of linear equations is homogeneous if all the equations have a constant of zero.</p>\n",
    "<p>A system of equations that is homogeneous always has at least one solution -- setting each variable to zero will always solve the system.</p>"
   ]
  },
  {
   "cell_type": "markdown",
   "metadata": {},
   "source": [
    "<h2>Singularity</h2>\n",
    "<p>A matrix is square if it has the same number of columns as rows. Here's a square matrix:</p>\n",
    "<p>$\\begin{bmatrix}\n",
    "1 & 1 & 0 \\\\ \n",
    "0 & -3 & 3 \\\\\n",
    "1 & -7 & 4 \\\\\n",
    "\\end{bmatrix}$</p>\n",
    "<p>A square matrix is nonsingular if it represents a homogenous system with one unique solution. When we represent a homegeneous system, we can skip showing the coefficients, because we can assume that they are zero. Here's a nonsingular matrix:</p>\n",
    "<p>$\\begin{bmatrix}\n",
    "1 & 2 \\\\ \n",
    "3 & 4\n",
    "\\end{bmatrix}$</p>\n",
    "<p>Which can be shown to be:</p>\n",
    "<p>$\\left[\\begin{array}{rr|r}\n",
    "1 & 0 & 0 \\\\ \n",
    "0 & 1 & 0\n",
    "\\end{array}\\right]$</p>\n",
    "<p>A square matrix is singular if it represents a homogeneous system with infinite solutions. Here's an example:</p>\n",
    "<p>$\\begin{bmatrix}\n",
    "1 & 2 \\\\ \n",
    "3 & 6\n",
    "\\end{bmatrix}$</p>\n",
    "<p>Which can be shown to be:</p>\n",
    "<p>$\\begin{bmatrix}\n",
    "1 & 2 \\\\ \n",
    "0 & 0\n",
    "\\end{bmatrix}$</p>\n",
    "<p>Later on, apparantly singlularity is important when it comes to inverting matrices</p>"
   ]
  },
  {
   "cell_type": "markdown",
   "metadata": {},
   "source": [
    "<h1>Vectors</h1>\n",
    "<p>A matrix with a single column is called a <em>column vector</em></p>\n",
    "<p>$\\begin{bmatrix}1\\\\2\\\\3\\end{bmatrix}$</p>\n",
    "<p>A matrix with a single row is called a <em>row vector</em></p>\n",
    "<p>$\\begin{bmatrix}1 & 2 & 3\\end{bmatrix}$</p>\n",
    "<p>So, a vector is a single row or a single column (wow)</p>\n",
    "<p>One can add two vectors by simply adding the elements in the same position together</p>\n",
    "<p>$\\begin{bmatrix}1 \\\\ 2 \\\\ 3\\end{bmatrix}+\\begin{bmatrix}2 \\\\ 3 \\\\ 4\\end{bmatrix} = \\begin{bmatrix}3 \\\\ 5 \\\\ 7\\end{bmatrix}$</p>"
   ]
  },
  {
   "cell_type": "code",
   "execution_count": 105,
   "metadata": {
    "collapsed": false
   },
   "outputs": [
    {
     "name": "stdout",
     "output_type": "stream",
     "text": [
      "[3 5 7]\n"
     ]
    }
   ],
   "source": [
    "#adding vectors is easy in numpy\n",
    "vector1 = np.asarray([1,2,3])\n",
    "vector2 = np.asarray([2,3,4])\n",
    "vector1_2 = vector1+vector2\n",
    "print(vector1_2)"
   ]
  },
  {
   "cell_type": "markdown",
   "metadata": {},
   "source": [
    "<h2>Scalars</h2>\n",
    "<p>Vectors can be multiplied by constants known as <em>scalars</em></p>\n",
    "<p>$4*\\begin{bmatrix}2 \\\\ 3 \\\\ 4\\end{bmatrix}=\\begin{bmatrix}8 \\\\ 12 \\\\ 16\\end{bmatrix}$</p>\n"
   ]
  },
  {
   "cell_type": "code",
   "execution_count": 106,
   "metadata": {
    "collapsed": false
   },
   "outputs": [
    {
     "name": "stdout",
     "output_type": "stream",
     "text": [
      "[ 8 12 16]\n"
     ]
    }
   ],
   "source": [
    "# Shit's easy in numpy\n",
    "vector = np.asarray([2,3,4])\n",
    "scalar = 4\n",
    "vector_times_scalar = vector*scalar\n",
    "print(vector_times_scalar)"
   ]
  },
  {
   "cell_type": "markdown",
   "metadata": {},
   "source": [
    "<h2>Geometric intuition & Plotting Vectors</h2>\n",
    "<p>The number of elements in a vector is its <em>dimension</em></p>\n",
    "<p>The size of a vector in a dimension is its <em>magnitude</em></p>\n",
    "<p>You can use the .quiver() method in pyplot to plot vectors</p>\n",
    "<p>.quiver() takes the following arguments</p>\n",
    "<ul><li>X -- this is the origin of the vector (x coordinate)</li>\n",
    "<li>Y -- the y-coordinate origin of the vector</li>\n",
    "<li>U -- The distance the vector moves on the x axis.</li>\n",
    "<li>V -- the distance the vector moves on the y axis.</li></ul>\n",
    "<p>The quiver method will take an array of any length to accomodate any number of vectors</p>\n",
    "\n"
   ]
  },
  {
   "cell_type": "code",
   "execution_count": 134,
   "metadata": {
    "collapsed": false
   },
   "outputs": [
    {
     "data": {
      "image/png": "[encoded data removed]",
      "text/plain": [
       "<matplotlib.figure.Figure at 0x4e55850>"
      ]
     },
     "metadata": {},
     "output_type": "display_data"
    }
   ],
   "source": [
    "import matplotlib.pyplot as plt\n",
    "%matplotlib inline\n",
    "#plotting 3 vectors\n",
    "\n",
    "X = [0,1,0]\n",
    "Y = [0,2,0]\n",
    "U = [1,3,4]\n",
    "V = [2,2,4]\n",
    "# Actually make the plot.\n",
    "plt.quiver(X, Y, U, V, angles='xy', scale_units='xy', scale=1)\n",
    "#plt.quiver(X2, Y2, U2, V2, angles = 'xy', scale_units = 'xy' ,scale=1)\n",
    "# Set the x axis limits\n",
    "plt.xlim([0,6])\n",
    "# Set the y axis limits\n",
    "plt.ylim([0,6])\n",
    "# Show the plot.\n",
    "plt.show()\n"
   ]
  },
  {
   "cell_type": "markdown",
   "metadata": {},
   "source": [
    "<h2>Vector Length</h2>\n",
    "<p>Because we can now plot vectors, we can apply geometric intuition to determine a vector's length</p>\n",
    "<p>Take this vector as an example:</p>\n",
    "<p>$\\begin{bmatrix}\n",
    "2 \\\\ \n",
    "3\n",
    "\\end{bmatrix}$</p>\n",
    "<p>This vector is just the sum of these two:</p>\n",
    "<p>$X = \\begin{bmatrix}\n",
    "2 \\\\ \n",
    "3\n",
    "\\end{bmatrix} = \\begin{bmatrix}\n",
    "0\\\\\n",
    "3\n",
    "\\end{bmatrix} + \\begin{bmatrix}\n",
    "2 \\\\\n",
    "0\n",
    "\\end{bmatrix}$</p>\n",
    "<p>Breaking the vector down in this way results in the component vectors</p>\n",
    "<p>Applying the pythagorean theorem, we can determine the length of the vector</p>\n",
    "<p>$a^{2} + b^{2} = c^{2}$</p>\n",
    "\n",
    "<p>$c=\\sqrt{a^{2}+b^{2}}$</p>"
   ]
  },
  {
   "cell_type": "code",
   "execution_count": 139,
   "metadata": {
    "collapsed": false
   },
   "outputs": [
    {
     "data": {
      "image/png": "[encoded data removed]",
      "text/plain": [
       "<matplotlib.figure.Figure at 0x184af90>"
      ]
     },
     "metadata": {},
     "output_type": "display_data"
    },
    {
     "name": "stdout",
     "output_type": "stream",
     "text": [
      "vector length:  3.605551275463989\n"
     ]
    }
   ],
   "source": [
    "X = [0,2,0]\n",
    "Y = [0,0,0]\n",
    "U = [2,0,2]\n",
    "V = [0,3,3]\n",
    "# Plot vector and component vectors\n",
    "plt.quiver(X, Y, U, V, angles='xy', scale_units='xy', scale=1)\n",
    "\n",
    "plt.xlim([0,6])\n",
    "plt.ylim([0,6])\n",
    "plt.show()\n",
    "#calculate vector length using Pythagorean theorem\n",
    "vector_length = (2**2 + 3**2)**.5\n",
    "print(\"vector length: \", vector_length)"
   ]
  },
  {
   "cell_type": "markdown",
   "metadata": {},
   "source": [
    "<h2>The Dot Product</h2>\n",
    "<p>$\\vec{a}\\cdot\\vec{b}=\\begin{bmatrix}\n",
    "a_{1} \\\\\n",
    "a_{2} \\\\\n",
    "a_{3}\n",
    "\\end{bmatrix} \\cdot\n",
    "\\begin{bmatrix}\n",
    "b_{1} \\\\\n",
    "b_{2} \\\\\n",
    "b_{3}\n",
    "\\end{bmatrix} = a_{1}b_{1} + a_{2}b_{2} + a_{3}b_{3}$</p>\n",
    "<p>$\\vec{a}$ and $\\vec{b}$ are vectors. Taking the dot product tells us how much of the length of $\\vec{a}$ is pointing in the same direction as $\\vec{b}$ </p>\n",
    "<p>If two vectors are perpendicular, the dot product will be 0. These are called <em>orthogonal</em>. If they are the same, their dot product will be the square of the vector length</p>"
   ]
  },
  {
   "cell_type": "code",
   "execution_count": 145,
   "metadata": {
    "collapsed": false
   },
   "outputs": [
    {
     "name": "stdout",
     "output_type": "stream",
     "text": [
      "122\n",
      "Vector C Length 5.0\n",
      "C and D dot product 25\n"
     ]
    }
   ],
   "source": [
    "#different vectors\n",
    "vecA = np.asarray([3,4,5,6])\n",
    "vecB = np.asarray([5,6,7,8])\n",
    "dot = sum(vecA*vecB)\n",
    "print(dot)\n",
    "#same vectors\n",
    "vecC = np.asarray([3,4])\n",
    "vecD = np.asarray([3,4])\n",
    "vecCLength = (3**2+4**2)**.5\n",
    "dot2 = sum(vecC*vecD)\n",
    "print(\"Vector C Length\", vecCLength)\n",
    "print(\"C and D dot product\", dot2)\n"
   ]
  },
  {
   "cell_type": "markdown",
   "metadata": {},
   "source": [
    "<h2>Linear Regression Review</h2>\n",
    "<p>\"Predicted value of dependent variable is equal to the value of the independent variable times the slope plus the intercept\"</p>\n",
    "<p>Slope $m = (cov(x,y))/variance(x)$</p>\n",
    "<p>Intercept $b = mean(y) - m * (mean(x))$</p>\n",
    "<p>To apply a linear regression over a column, we simply take the value in the row and run it through the regression formula</p>\n",
    "<p>However, we will often want to create linear regression models that take a coefficient for many columns of data</p>\n",
    "<p>When we do this, the linear regression: $y=m_{1}x_{1}+m_{2}x_{2}+m_{3}x_{3}+m_{i}x_{i}+b$ can become computationally expensive if we simply loop through the rows and calculate the prediction for each column in the row</p>\n",
    "<p>This is where matrix multiplication and dot products come in handy</p>"
   ]
  },
  {
   "cell_type": "markdown",
   "metadata": {},
   "source": [
    "<h2>Vector and Matrix Multiplications</h2>\n",
    "<p>Multiplying matrices helps us to perform linear regression much faster</p>\n",
    "<p>Multiplying matrices is expressed in terms of rows and columns. e.g. 2x2 * 2x1</p>   \n",
    "<p>To multiply matrices, they must have matching inner terms, i.e. must share the same number of columns in one as rows in another</p>\n",
    "<p>More generally, if A is a 2x2 matrix and B is a 2x1 matrix</p>\n",
    "<p>$\\begin{bmatrix}\n",
    "A11 & A12\\\\\n",
    "A21 & A22\n",
    "\\end{bmatrix} * \\begin{bmatrix}\n",
    "B11 \\\\\n",
    "B21\n",
    "\\end{bmatrix} = \\begin{bmatrix}\n",
    "(A11 * B11) + (A12 * B21) \\\\\n",
    "(A21 * B11) + (A22 * B21)\n",
    "\\end{bmatrix}$</p>\n",
    "<p>Even more generally, <a href=\"https://en.wikipedia.org/wiki/Matrix_multiplication\">see wikipedia</a></p>\n",
    "\n",
    "<p>Now if we think of a single column matrix representing the coeffecients of a linear regression, and another matrix representing our data:</p>\n",
    "<p>$\\begin{bmatrix} a_{11} & a_{12} \\\\ a_{21} & a_{22} \\\\ a_{31} & a_{32} \\end{bmatrix} * \\begin{bmatrix}\n",
    "b_{11} \\\\\n",
    "b_{21}\n",
    "\\end{bmatrix} \n",
    "= \\begin{bmatrix}\n",
    "a_{11} * b_{11} + a_{12} * b_{21} \\\\\n",
    "a_{21} * b_{11} + a_{22} * b_{21} \\\\\n",
    "a_{31} * b_{11} + a_{32} * b_{21}\n",
    "\\end{bmatrix}$</p>\n",
    "<p>For example:</p>\n",
    "<p>$\\begin{bmatrix} 3 \\\\ -1 \\end{bmatrix}$ can represent the linear equation $y=3x-1$</p>\n",
    "<p>and we can represent our observations with the matrix (with the second column as 1 to allow for the intercept to be added)</p><p> $\\begin{bmatrix}\n",
    "2 & 1 \\\\\n",
    "5 & 1 \\\\\n",
    "-1 & 1\n",
    "\\end{bmatrix}$</p>\n",
    "<p>Which allows us to do matrix multiplication like this:</p>\n",
    "<p>$\\begin{bmatrix} 2 & 1 \\\\ 5 & 1 \\\\ -1 & 1 \\end{bmatrix} * \\begin{bmatrix}\n",
    "3 \\\\\n",
    "-1\n",
    "\\end{bmatrix} \n",
    "= \\begin{bmatrix}\n",
    "2 * 3 + 1 * -1 \\\\\n",
    "5 * 3 + 1 * -1 \\\\\n",
    "-1 * 3 + 1 * -1\n",
    "\\end{bmatrix} = \\begin{bmatrix}\n",
    "5 \\\\\n",
    "14 \\\\\n",
    "-4\n",
    "\\end{bmatrix}$</p>"
   ]
  },
  {
   "cell_type": "code",
   "execution_count": 149,
   "metadata": {
    "collapsed": false
   },
   "outputs": [
    {
     "name": "stdout",
     "output_type": "stream",
     "text": [
      "[ 5 14 -4]\n"
     ]
    }
   ],
   "source": [
    "# With numpy, we can use the np.dot() method to multiply matrices\n",
    "a_matrix = np.asarray([[2,1],[5,1],[-1,1]])\n",
    "b_matrix = np.asarray([3,-1])\n",
    "dot_product = np.dot(a_matrix, b_matrix)\n",
    "print(dot_product)"
   ]
  },
  {
   "cell_type": "code",
   "execution_count": 151,
   "metadata": {
    "collapsed": false
   },
   "outputs": [
    {
     "name": "stdout",
     "output_type": "stream",
     "text": [
      "[[23  9]\n",
      " [29 13]\n",
      " [38 16]]\n"
     ]
    }
   ],
   "source": [
    "# As long as they line up along the M1 cols and M2 rows, we can multiply matrices of any size\n",
    "c_matrix = np.asarray([[5,2], [3,5], [6,5]])\n",
    "d_matrix = np.asarray([[3,1], [4,2]])\n",
    "dot_product_c_d = np.dot(c_matrix, d_matrix)\n",
    "print(dot_product_c_d)\n"
   ]
  },
  {
   "cell_type": "code",
   "execution_count": null,
   "metadata": {
    "collapsed": true
   },
   "outputs": [],
   "source": []
  }
 ],
 "metadata": {
  "kernelspec": {
   "display_name": "Python [default]",
   "language": "python",
   "name": "python3"
  },
  "language_info": {
   "codemirror_mode": {
    "name": "ipython",
    "version": 3
   },
   "file_extension": ".py",
   "mimetype": "text/x-python",
   "name": "python",
   "nbconvert_exporter": "python",
   "pygments_lexer": "ipython3",
   "version": "3.5.1"
  }
 },
 "nbformat": 4,
 "nbformat_minor": 0
}
